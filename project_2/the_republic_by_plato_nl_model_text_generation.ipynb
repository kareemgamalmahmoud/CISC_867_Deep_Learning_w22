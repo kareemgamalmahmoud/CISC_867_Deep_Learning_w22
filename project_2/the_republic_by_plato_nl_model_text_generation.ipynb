{
  "metadata": {
    "kernelspec": {
      "language": "python",
      "display_name": "Python 3",
      "name": "python3"
    },
    "language_info": {
      "pygments_lexer": "ipython3",
      "nbconvert_exporter": "python",
      "version": "3.6.4",
      "file_extension": ".py",
      "codemirror_mode": {
        "name": "ipython",
        "version": 3
      },
      "name": "python",
      "mimetype": "text/x-python"
    },
    "colab": {
      "name": "the-republic-by-plato-nl-model-text-generation.ipynb",
      "provenance": [],
      "collapsed_sections": []
    },
    "accelerator": "GPU"
  },
  "nbformat_minor": 0,
  "nbformat": 4,
  "cells": [
    {
      "cell_type": "markdown",
      "source": [
        "<h2><center>Neural Language Model for Text Generation</center></h2>"
      ],
      "metadata": {
        "id": "ULWquHwBwjYs"
      }
    },
    {
      "cell_type": "markdown",
      "source": [
        "<h2><center>Introduction</center></h2>\n",
        "\n",
        "<h3> About the Dataset : </h3>\n",
        "The Republic is the classical Greek philosopher Plato’s most famous work. It is structured as a dialog (e.g. conversation) on the topic of order and justice within a city state The entire text is available for free in the public domain.\n",
        "<br><br>\n",
        "<h3>Language Model Design : </h3>\n",
        "\n",
        "In this notebook, we will develop a model of the text that we can then use to generate new sequences of text. The language model will be statistical and will predict the probability of each word given an input sequence of text. The predicted word will be fed in as input to in turn generate the next word. A key design decision is how long the input sequences should be. They need to be long enough to allow the model to learn the context for the words to predict. This input length will also define the length of seed text used to generate new sequences when we use the model.\n",
        "There is no correct answer. With enough time and resources, we could explore the ability of the model to learn with differently sized input sequences. Instead, we will pick a length of 50 words for the length of the input sequences, somewhat arbitrarily. We could process the data so that the model only ever deals with self-contained sentences and pad or truncate the text to meet this requirement for each input sequence."
      ],
      "metadata": {
        "id": "3_0zH75MwjYv"
      }
    },
    {
      "cell_type": "markdown",
      "source": [
        "<h3><center>Importing Libraries</center></h3>"
      ],
      "metadata": {
        "id": "JdDuPclAwjYy"
      }
    },
    {
      "cell_type": "code",
      "source": [
        "import warnings\n",
        "warnings.filterwarnings('ignore')\n",
        "\n",
        "import numpy as np\n",
        "import pandas as pd\n",
        "import os\n",
        "import re\n",
        "import string\n",
        "from random import randint\n",
        "\n",
        "from keras.preprocessing.text import Tokenizer\n",
        "# from keras.utils import to_categorical\n",
        "from tensorflow.keras.utils import to_categorical\n",
        "from keras.preprocessing.sequence import pad_sequences\n",
        "\n",
        "from keras.models import Sequential\n",
        "from keras.layers import Conv1D, MaxPooling1D, LSTM, Embedding, Dense, Dropout, SimpleRNN, GRU\n",
        "\n",
        "from keras.utils.vis_utils import plot_model"
      ],
      "metadata": {
        "trusted": true,
        "id": "17AKkyxwwjYz"
      },
      "execution_count": null,
      "outputs": []
    },
    {
      "cell_type": "markdown",
      "source": [
        "<h3><center>Loading File"
      ],
      "metadata": {
        "id": "B-5iyeVMwjY3"
      }
    },
    {
      "cell_type": "code",
      "source": [
        "def load_doc(filename):\n",
        "    file = open(filename, 'r')\n",
        "    text = file.read()\n",
        "    file.close()\n",
        "    return text"
      ],
      "metadata": {
        "_uuid": "d629ff2d2480ee46fbb7e2d37f6b5fab8052498a",
        "_cell_guid": "79c7e3d0-c299-4dcb-8224-4455121ee9b0",
        "trusted": true,
        "id": "jQjBUV7ewjY4"
      },
      "execution_count": null,
      "outputs": []
    },
    {
      "cell_type": "code",
      "source": [
        "# in_file = '../input/the-republic-by-plato/pg1497.txt'\n",
        "# in_file = 'pg1497.txt'\n",
        "in_file = 'pg1497.txt'\n",
        "doc = load_doc(in_file)\n",
        "print(doc[:1000])"
      ],
      "metadata": {
        "trusted": true,
        "colab": {
          "base_uri": "https://localhost:8080/"
        },
        "id": "RY0mnJLvwjY5",
        "outputId": "8b21c485-4532-46a9-e8ac-da9b94fb5635"
      },
      "execution_count": null,
      "outputs": [
        {
          "output_type": "stream",
          "name": "stdout",
          "text": [
            "﻿The Project Gutenberg eBook of The Republic, by Plato\n",
            "\n",
            "This eBook is for the use of anyone anywhere in the United States and\n",
            "most other parts of the world at no cost and with almost no restrictions\n",
            "whatsoever. You may copy it, give it away or re-use it under the terms\n",
            "of the Project Gutenberg License included with this eBook or online at\n",
            "www.gutenberg.org. If you are not located in the United States, you\n",
            "will have to check the laws of the country where you are located before\n",
            "using this eBook.\n",
            "\n",
            "Title: The Republic\n",
            "\n",
            "Author: Plato\n",
            "\n",
            "Translator: B. Jowett\n",
            "\n",
            "Release Date: October, 1998 [eBook #1497]\n",
            "[Most recently updated: September 11, 2021]\n",
            "\n",
            "Language: English\n",
            "\n",
            "\n",
            "Produced by: Sue Asscher and David Widger\n",
            "\n",
            "*** START OF THE PROJECT GUTENBERG EBOOK THE REPUBLIC ***\n",
            "\n",
            "\n",
            "\n",
            "\n",
            "THE REPUBLIC\n",
            "\n",
            "By Plato\n",
            "\n",
            "Translated by Benjamin Jowett\n",
            "\n",
            "Note: See also “The Republic” by Plato, Jowett, eBook #150\n",
            "\n",
            "\n",
            "Contents\n",
            "\n",
            " INTRODUCTION AND ANALYSIS.\n",
            " THE REPUBLIC.\n",
            " PERSONS OF THE DIALOGUE.\n",
            " BOOK I.\n",
            " BOOK II.\n",
            " BOOK III.\n",
            " BOO\n"
          ]
        }
      ]
    },
    {
      "cell_type": "markdown",
      "source": [
        "<h3><center>Extracting only Books from the doc"
      ],
      "metadata": {
        "id": "_32QC1gAwjY7"
      }
    },
    {
      "cell_type": "code",
      "source": [
        "[m.start() for m in re.finditer('BOOK I\\.', doc)]"
      ],
      "metadata": {
        "trusted": true,
        "colab": {
          "base_uri": "https://localhost:8080/"
        },
        "id": "HIg2e4GpwjY8",
        "outputId": "c3038cbf-9d37-4cf8-b6d7-abb2a578d8a5"
      },
      "execution_count": null,
      "outputs": [
        {
          "output_type": "execute_result",
          "data": {
            "text/plain": [
              "[967, 38188, 553671]"
            ]
          },
          "metadata": {},
          "execution_count": 7
        }
      ]
    },
    {
      "cell_type": "code",
      "source": [
        "[m.start() for m in re.finditer('End of', doc)]"
      ],
      "metadata": {
        "trusted": true,
        "colab": {
          "base_uri": "https://localhost:8080/"
        },
        "id": "pyEO6qitwjY9",
        "outputId": "d5802e8d-04d4-4d85-f3ec-d1aa655da869"
      },
      "execution_count": null,
      "outputs": [
        {
          "output_type": "execute_result",
          "data": {
            "text/plain": [
              "[]"
            ]
          },
          "metadata": {},
          "execution_count": 8
        }
      ]
    },
    {
      "cell_type": "code",
      "source": [
        "books = doc[553615:1195644]\n",
        "\n",
        "print(books[:300])"
      ],
      "metadata": {
        "trusted": true,
        "colab": {
          "base_uri": "https://localhost:8080/"
        },
        "id": "7GCqMSzwwjY-",
        "outputId": "aa8e4a84-1353-4fd0-9a5e-4aad4c13aaeb"
      },
      "execution_count": null,
      "outputs": [
        {
          "output_type": "stream",
          "name": "stdout",
          "text": [
            "ameless person, who are\n",
            "introduced in the Timaeus.\n",
            "\n",
            "\n",
            "\n",
            "\n",
            " BOOK I.\n",
            "\n",
            "\n",
            "I went down yesterday to the Piraeus with Glaucon the son of Ariston,\n",
            "that I might offer up my prayers to the goddess (Bendis, the Thracian\n",
            "Artemis.); and also because I wanted to see in what manner they would\n",
            "celebrate the festival, \n"
          ]
        }
      ]
    },
    {
      "cell_type": "markdown",
      "source": [
        "<h3><center>Cleaning Text"
      ],
      "metadata": {
        "id": "0WOVRlujwjY_"
      }
    },
    {
      "cell_type": "code",
      "source": [
        "def remove_punctuation(text):\n",
        "    PUNCT_TO_REMOVE = string.punctuation\n",
        "    \"\"\"custom function to remove the punctuation\"\"\"\n",
        "    return text.translate(str.maketrans('', '', PUNCT_TO_REMOVE))"
      ],
      "metadata": {
        "trusted": true,
        "id": "vnaWVSLfwjZA"
      },
      "execution_count": null,
      "outputs": []
    },
    {
      "cell_type": "code",
      "source": [
        "cleaned_book = remove_punctuation(books)\n",
        "\n",
        "tokens = cleaned_book.split()\n",
        "tokens = [word for word in tokens if word.isalpha()]\n",
        "tokens = [word.lower() for word in tokens]\n",
        "\n",
        "print('Tokens :\\n',tokens[:10])\n",
        "print('No of Tokens : ',len(tokens))\n",
        "print('Unique Tokens : ',len(set(tokens)))"
      ],
      "metadata": {
        "trusted": true,
        "colab": {
          "base_uri": "https://localhost:8080/"
        },
        "id": "qzuyUgqrwjZB",
        "outputId": "77a0f44f-fb9c-475a-8ff7-5fdb6f3f12be"
      },
      "execution_count": null,
      "outputs": [
        {
          "output_type": "stream",
          "name": "stdout",
          "text": [
            "Tokens :\n",
            " ['hold', 'of', 'me', 'by', 'the', 'cloak', 'behind', 'and', 'said', 'polemarchus']\n",
            "No of Tokens :  118086\n",
            "Unique Tokens :  7830\n"
          ]
        }
      ]
    },
    {
      "cell_type": "code",
      "source": [
        "sequences = list()\n",
        "for i in range(0,len(tokens),51):\n",
        "    seq = tokens[i:i+51]\n",
        "    line = ' '.join(seq)\n",
        "    sequences.append(line)\n",
        "    \n",
        "print('Number of Sequences : ',len(sequences))"
      ],
      "metadata": {
        "trusted": true,
        "colab": {
          "base_uri": "https://localhost:8080/"
        },
        "id": "p6P3_iYSwjZC",
        "outputId": "ae8d7355-1235-4a31-a28f-c9e24859ffae"
      },
      "execution_count": null,
      "outputs": [
        {
          "output_type": "stream",
          "name": "stdout",
          "text": [
            "Number of Sequences :  2316\n"
          ]
        }
      ]
    },
    {
      "cell_type": "markdown",
      "source": [
        "<h3><center>Encode Sequences"
      ],
      "metadata": {
        "id": "-BGGnkCewjZC"
      }
    },
    {
      "cell_type": "code",
      "source": [
        "tokenizer = Tokenizer()\n",
        "tokenizer.fit_on_texts(sequences)\n",
        "encoded = tokenizer.texts_to_sequences(sequences)\n",
        "encoded = np.array(encoded[:-1])"
      ],
      "metadata": {
        "trusted": true,
        "id": "CatFARpAwjZD"
      },
      "execution_count": null,
      "outputs": []
    },
    {
      "cell_type": "code",
      "source": [
        "vocab_size = len(tokenizer.word_index) + 1\n",
        "vocab_size"
      ],
      "metadata": {
        "trusted": true,
        "colab": {
          "base_uri": "https://localhost:8080/"
        },
        "id": "AYIB3HMEwjZE",
        "outputId": "f48ff652-6f7d-4a69-e0ea-cca02baf8018"
      },
      "execution_count": null,
      "outputs": [
        {
          "output_type": "execute_result",
          "data": {
            "text/plain": [
              "7340"
            ]
          },
          "metadata": {},
          "execution_count": 14
        }
      ]
    },
    {
      "cell_type": "markdown",
      "source": [
        "<h3><center> X & y"
      ],
      "metadata": {
        "id": "_xE8vyNfwjZE"
      }
    },
    {
      "cell_type": "code",
      "source": [
        "X , y = encoded[:,:-1], encoded[:,-1]\n",
        "\n",
        "y = to_categorical(y, num_classes=vocab_size)\n",
        "\n",
        "seq_length = X.shape[1]\n",
        "\n",
        "print('Shape of X : ', X.shape)\n",
        "print('Shape of y : ', y.shape)"
      ],
      "metadata": {
        "trusted": true,
        "colab": {
          "base_uri": "https://localhost:8080/"
        },
        "id": "D5NZ0-SCwjZF",
        "outputId": "713170c3-1c59-43a5-c651-c5ad0013d72c"
      },
      "execution_count": null,
      "outputs": [
        {
          "output_type": "stream",
          "name": "stdout",
          "text": [
            "Shape of X :  (2302, 50)\n",
            "Shape of y :  (2302, 7340)\n"
          ]
        }
      ]
    },
    {
      "cell_type": "code",
      "source": [
        "import matplotlib.pyplot as plt\n",
        "\n",
        "def results_virt(history):\n",
        "\n",
        "  # generate a figure containing 3 plots displayed horizontally\n",
        "  fig, (ax1, ax2) = plt.subplots(1, 2, figsize=(25,7))\n",
        "  fig.suptitle('Model Results')\n",
        "  \n",
        "  #first plot\n",
        "  # first we display the training accuracy in red color VS. the validation accuracy in blue color through the epochs\n",
        "  ax1.plot(history.history['accuracy'], 'r')\n",
        "  ax1.set_title('model accuracy')\n",
        "  ax1.set_ylabel('accuracy')\n",
        "  ax1.set_xlabel('epochs')\n",
        "  ax1.legend(['tr_acc'])\n",
        "  ax1.grid()\n",
        "\n",
        "  #second plot\n",
        "  # on this axis, we plot the training loss in red color VS. the validation loss in blue color through the epochs\n",
        "  ax2.plot(history.history['loss'], 'b')\n",
        "  ax2.set_title('model loss')\n",
        "  ax2.set_ylabel('loss')\n",
        "  ax2.set_xlabel('epoch')\n",
        "  ax2.legend(['tr_loss'])\n",
        "  ax2.grid()\n",
        "\n",
        "# display the figure\n",
        "  plt.show() "
      ],
      "metadata": {
        "id": "eJT1_IO9uQh5"
      },
      "execution_count": null,
      "outputs": []
    },
    {
      "cell_type": "markdown",
      "source": [
        "<h3><center>Modelling</center></h3>\n",
        "<ul>\n",
        "    <li>\n",
        "        We can now define and fit our language model on the training data.\n",
        "<li>\n",
        "    The learned embedding needs to know the size of the vocabulary and the length of input sequences. It also has a parameter to specify how many dimensions will be used to represent each word. \n",
        "That is, the size of the embedding vector space.\n",
        "Common values are 50, 100, and 300. We will use 50.\n",
        "    <li>\n",
        "        We will use a three LSTM hidden layers with 100 memory cells each. More memory cells and a deeper network may achieve better results.\n",
        "        <li>\n",
        "A dense fully connected layer with 100 neurons connects to the LSTM hidden layers to interpret the features extracted from the sequence. \n",
        "            <li>\n",
        "                The output layer predicts the next word as a single vector the size of the vocabulary with a probability for each word in the vocabulary. \n",
        "                <li>A softmax activation function is used to ensure the outputs have the characteristics of normalized probabilities."
      ],
      "metadata": {
        "id": "bQROazAgwjZG"
      }
    },
    {
      "cell_type": "markdown",
      "source": [
        "#LSTM Trial #1"
      ],
      "metadata": {
        "id": "voVUGsTbmmoJ"
      }
    },
    {
      "cell_type": "code",
      "source": [
        "def define_model(vocab_size, inputlength):\n",
        "    model = Sequential()\n",
        "    \n",
        "    model.add(Embedding(vocab_size, 50, input_length=seq_length))\n",
        "    model.add(LSTM(100, return_sequences=True,dropout=0.1))\n",
        "    model.add(LSTM(100, return_sequences=True,dropout=0.1))\n",
        "    model.add(LSTM(100))\n",
        "    model.add(Dense(100))\n",
        "    model.add(Dropout(0.2))\n",
        "    model.add(Dense(vocab_size, activation='softmax'))\n",
        "    \n",
        "    model.compile(loss='categorical_crossentropy', optimizer='adam', metrics=['accuracy'])\n",
        "    model.summary()\n",
        "    plot_model(model, to_file='model.png', show_shapes=True)\n",
        "    return model\n",
        "\n"
      ],
      "metadata": {
        "trusted": true,
        "id": "v2iS4FZ7wjZG"
      },
      "execution_count": null,
      "outputs": []
    },
    {
      "cell_type": "code",
      "source": [
        "model = define_model(vocab_size, seq_length)"
      ],
      "metadata": {
        "trusted": true,
        "colab": {
          "base_uri": "https://localhost:8080/"
        },
        "id": "5eO63rOWwjZH",
        "outputId": "2da9b217-f860-4c17-96a3-d1cb949372f1"
      },
      "execution_count": null,
      "outputs": [
        {
          "output_type": "stream",
          "name": "stdout",
          "text": [
            "Model: \"sequential\"\n",
            "_________________________________________________________________\n",
            " Layer (type)                Output Shape              Param #   \n",
            "=================================================================\n",
            " embedding (Embedding)       (None, 50, 100)           734000    \n",
            "                                                                 \n",
            " lstm (LSTM)                 (None, 50, 100)           80400     \n",
            "                                                                 \n",
            " lstm_1 (LSTM)               (None, 50, 100)           80400     \n",
            "                                                                 \n",
            " lstm_2 (LSTM)               (None, 100)               80400     \n",
            "                                                                 \n",
            " dense (Dense)               (None, 100)               10100     \n",
            "                                                                 \n",
            " dropout (Dropout)           (None, 100)               0         \n",
            "                                                                 \n",
            " dense_1 (Dense)             (None, 7340)              741340    \n",
            "                                                                 \n",
            "=================================================================\n",
            "Total params: 1,726,640\n",
            "Trainable params: 1,726,640\n",
            "Non-trainable params: 0\n",
            "_________________________________________________________________\n"
          ]
        }
      ]
    },
    {
      "cell_type": "markdown",
      "source": [
        "<h3><center>Training Model"
      ],
      "metadata": {
        "id": "n1p5V6v-wjZI"
      }
    },
    {
      "cell_type": "code",
      "source": [
        "# model.fit(X, y, batch_size=128, epochs=200, validation_split=0.1)\n",
        "his1=model.fit(X, y, batch_size=128, epochs=200)"
      ],
      "metadata": {
        "_kg_hide-output": true,
        "trusted": true,
        "colab": {
          "base_uri": "https://localhost:8080/"
        },
        "id": "oSieqxwtwjZJ",
        "outputId": "58097e92-abf9-4891-880b-8df8683d91f0"
      },
      "execution_count": null,
      "outputs": [
        {
          "output_type": "stream",
          "name": "stdout",
          "text": [
            "Epoch 1/200\n",
            "18/18 [==============================] - 11s 71ms/step - loss: 8.3795 - accuracy: 0.0443\n",
            "Epoch 2/200\n",
            "18/18 [==============================] - 1s 72ms/step - loss: 6.1393 - accuracy: 0.0521\n",
            "Epoch 3/200\n",
            "18/18 [==============================] - 1s 72ms/step - loss: 5.7770 - accuracy: 0.0504\n",
            "Epoch 4/200\n",
            "18/18 [==============================] - 1s 71ms/step - loss: 5.6867 - accuracy: 0.0591\n",
            "Epoch 5/200\n",
            "18/18 [==============================] - 1s 72ms/step - loss: 5.6521 - accuracy: 0.0552\n",
            "Epoch 6/200\n",
            "18/18 [==============================] - 1s 72ms/step - loss: 5.6342 - accuracy: 0.0556\n",
            "Epoch 7/200\n",
            "18/18 [==============================] - 1s 79ms/step - loss: 5.6217 - accuracy: 0.0582\n",
            "Epoch 8/200\n",
            "18/18 [==============================] - 1s 76ms/step - loss: 5.6257 - accuracy: 0.0552\n",
            "Epoch 9/200\n",
            "18/18 [==============================] - 1s 73ms/step - loss: 5.6155 - accuracy: 0.0578\n",
            "Epoch 10/200\n",
            "18/18 [==============================] - 1s 72ms/step - loss: 5.6178 - accuracy: 0.0582\n",
            "Epoch 11/200\n",
            "18/18 [==============================] - 1s 72ms/step - loss: 5.6083 - accuracy: 0.0552\n",
            "Epoch 12/200\n",
            "18/18 [==============================] - 1s 72ms/step - loss: 5.6062 - accuracy: 0.0504\n",
            "Epoch 13/200\n",
            "18/18 [==============================] - 1s 72ms/step - loss: 5.6059 - accuracy: 0.0595\n",
            "Epoch 14/200\n",
            "18/18 [==============================] - 1s 71ms/step - loss: 5.6028 - accuracy: 0.0491\n",
            "Epoch 15/200\n",
            "18/18 [==============================] - 1s 72ms/step - loss: 5.6015 - accuracy: 0.0573\n",
            "Epoch 16/200\n",
            "18/18 [==============================] - 1s 71ms/step - loss: 5.6013 - accuracy: 0.0578\n",
            "Epoch 17/200\n",
            "18/18 [==============================] - 1s 71ms/step - loss: 5.6051 - accuracy: 0.0578\n",
            "Epoch 18/200\n",
            "18/18 [==============================] - 1s 71ms/step - loss: 5.6027 - accuracy: 0.0591\n",
            "Epoch 19/200\n",
            "18/18 [==============================] - 1s 71ms/step - loss: 5.6016 - accuracy: 0.0591\n",
            "Epoch 20/200\n",
            "18/18 [==============================] - 1s 73ms/step - loss: 5.5931 - accuracy: 0.0543\n",
            "Epoch 21/200\n",
            "18/18 [==============================] - 1s 71ms/step - loss: 5.5914 - accuracy: 0.0591\n",
            "Epoch 22/200\n",
            "18/18 [==============================] - 1s 71ms/step - loss: 5.5749 - accuracy: 0.0595\n",
            "Epoch 23/200\n",
            "18/18 [==============================] - 1s 72ms/step - loss: 5.5154 - accuracy: 0.0582\n",
            "Epoch 24/200\n",
            "18/18 [==============================] - 1s 71ms/step - loss: 5.4088 - accuracy: 0.0560\n",
            "Epoch 25/200\n",
            "18/18 [==============================] - 1s 72ms/step - loss: 5.3356 - accuracy: 0.0613\n",
            "Epoch 26/200\n",
            "18/18 [==============================] - 1s 71ms/step - loss: 5.2840 - accuracy: 0.0639\n",
            "Epoch 27/200\n",
            "18/18 [==============================] - 1s 73ms/step - loss: 5.2287 - accuracy: 0.0647\n",
            "Epoch 28/200\n",
            "18/18 [==============================] - 1s 71ms/step - loss: 5.1610 - accuracy: 0.0725\n",
            "Epoch 29/200\n",
            "18/18 [==============================] - 1s 72ms/step - loss: 5.1070 - accuracy: 0.0747\n",
            "Epoch 30/200\n",
            "18/18 [==============================] - 1s 71ms/step - loss: 5.0388 - accuracy: 0.0769\n",
            "Epoch 31/200\n",
            "18/18 [==============================] - 1s 75ms/step - loss: 4.9678 - accuracy: 0.0812\n",
            "Epoch 32/200\n",
            "18/18 [==============================] - 1s 72ms/step - loss: 4.9173 - accuracy: 0.0830\n",
            "Epoch 33/200\n",
            "18/18 [==============================] - 1s 71ms/step - loss: 4.8347 - accuracy: 0.0960\n",
            "Epoch 34/200\n",
            "18/18 [==============================] - 1s 71ms/step - loss: 4.7831 - accuracy: 0.0943\n",
            "Epoch 35/200\n",
            "18/18 [==============================] - 1s 71ms/step - loss: 4.7006 - accuracy: 0.1051\n",
            "Epoch 36/200\n",
            "18/18 [==============================] - 1s 72ms/step - loss: 4.6463 - accuracy: 0.1073\n",
            "Epoch 37/200\n",
            "18/18 [==============================] - 1s 72ms/step - loss: 4.5521 - accuracy: 0.1142\n",
            "Epoch 38/200\n",
            "18/18 [==============================] - 1s 72ms/step - loss: 4.4904 - accuracy: 0.1242\n",
            "Epoch 39/200\n",
            "18/18 [==============================] - 1s 71ms/step - loss: 4.4324 - accuracy: 0.1268\n",
            "Epoch 40/200\n",
            "18/18 [==============================] - 1s 72ms/step - loss: 4.3660 - accuracy: 0.1268\n",
            "Epoch 41/200\n",
            "18/18 [==============================] - 1s 71ms/step - loss: 4.6602 - accuracy: 0.1203\n",
            "Epoch 42/200\n",
            "18/18 [==============================] - 1s 72ms/step - loss: 4.6664 - accuracy: 0.1273\n",
            "Epoch 43/200\n",
            "18/18 [==============================] - 1s 72ms/step - loss: 4.4921 - accuracy: 0.1260\n",
            "Epoch 44/200\n",
            "18/18 [==============================] - 1s 72ms/step - loss: 4.2768 - accuracy: 0.1338\n",
            "Epoch 45/200\n",
            "18/18 [==============================] - 1s 73ms/step - loss: 4.1529 - accuracy: 0.1507\n",
            "Epoch 46/200\n",
            "18/18 [==============================] - 1s 71ms/step - loss: 4.0634 - accuracy: 0.1512\n",
            "Epoch 47/200\n",
            "18/18 [==============================] - 1s 72ms/step - loss: 4.0037 - accuracy: 0.1520\n",
            "Epoch 48/200\n",
            "18/18 [==============================] - 1s 72ms/step - loss: 3.9279 - accuracy: 0.1612\n",
            "Epoch 49/200\n",
            "18/18 [==============================] - 1s 73ms/step - loss: 3.8747 - accuracy: 0.1685\n",
            "Epoch 50/200\n",
            "18/18 [==============================] - 1s 72ms/step - loss: 3.7996 - accuracy: 0.1833\n",
            "Epoch 51/200\n",
            "18/18 [==============================] - 1s 72ms/step - loss: 3.7390 - accuracy: 0.1668\n",
            "Epoch 52/200\n",
            "18/18 [==============================] - 1s 72ms/step - loss: 3.6607 - accuracy: 0.1842\n",
            "Epoch 53/200\n",
            "18/18 [==============================] - 1s 72ms/step - loss: 3.6219 - accuracy: 0.1872\n",
            "Epoch 54/200\n",
            "18/18 [==============================] - 1s 72ms/step - loss: 3.5582 - accuracy: 0.1885\n",
            "Epoch 55/200\n",
            "18/18 [==============================] - 1s 71ms/step - loss: 3.4937 - accuracy: 0.2016\n",
            "Epoch 56/200\n",
            "18/18 [==============================] - 1s 71ms/step - loss: 3.4128 - accuracy: 0.1964\n",
            "Epoch 57/200\n",
            "18/18 [==============================] - 1s 73ms/step - loss: 3.3469 - accuracy: 0.2068\n",
            "Epoch 58/200\n",
            "18/18 [==============================] - 1s 72ms/step - loss: 3.3095 - accuracy: 0.2176\n",
            "Epoch 59/200\n",
            "18/18 [==============================] - 1s 72ms/step - loss: 3.2503 - accuracy: 0.2246\n",
            "Epoch 60/200\n",
            "18/18 [==============================] - 1s 72ms/step - loss: 3.1979 - accuracy: 0.2198\n",
            "Epoch 61/200\n",
            "18/18 [==============================] - 1s 72ms/step - loss: 3.1538 - accuracy: 0.2285\n",
            "Epoch 62/200\n",
            "18/18 [==============================] - 1s 72ms/step - loss: 3.0768 - accuracy: 0.2415\n",
            "Epoch 63/200\n",
            "18/18 [==============================] - 1s 71ms/step - loss: 3.0625 - accuracy: 0.2415\n",
            "Epoch 64/200\n",
            "18/18 [==============================] - 1s 72ms/step - loss: 3.0103 - accuracy: 0.2459\n",
            "Epoch 65/200\n",
            "18/18 [==============================] - 1s 72ms/step - loss: 2.9523 - accuracy: 0.2559\n",
            "Epoch 66/200\n",
            "18/18 [==============================] - 1s 73ms/step - loss: 2.8593 - accuracy: 0.2676\n",
            "Epoch 67/200\n",
            "18/18 [==============================] - 1s 71ms/step - loss: 2.8220 - accuracy: 0.2824\n",
            "Epoch 68/200\n",
            "18/18 [==============================] - 1s 72ms/step - loss: 2.7904 - accuracy: 0.2850\n",
            "Epoch 69/200\n",
            "18/18 [==============================] - 1s 73ms/step - loss: 2.7252 - accuracy: 0.2884\n",
            "Epoch 70/200\n",
            "18/18 [==============================] - 1s 73ms/step - loss: 2.6890 - accuracy: 0.3023\n",
            "Epoch 71/200\n",
            "18/18 [==============================] - 1s 73ms/step - loss: 2.6575 - accuracy: 0.3067\n",
            "Epoch 72/200\n",
            "18/18 [==============================] - 1s 72ms/step - loss: 2.5993 - accuracy: 0.3115\n",
            "Epoch 73/200\n",
            "18/18 [==============================] - 1s 72ms/step - loss: 2.5158 - accuracy: 0.3323\n",
            "Epoch 74/200\n",
            "18/18 [==============================] - 1s 73ms/step - loss: 2.4986 - accuracy: 0.3241\n",
            "Epoch 75/200\n",
            "18/18 [==============================] - 1s 73ms/step - loss: 2.4738 - accuracy: 0.3297\n",
            "Epoch 76/200\n",
            "18/18 [==============================] - 1s 72ms/step - loss: 2.4613 - accuracy: 0.3284\n",
            "Epoch 77/200\n",
            "18/18 [==============================] - 1s 71ms/step - loss: 2.3602 - accuracy: 0.3614\n",
            "Epoch 78/200\n",
            "18/18 [==============================] - 1s 72ms/step - loss: 2.3861 - accuracy: 0.3480\n",
            "Epoch 79/200\n",
            "18/18 [==============================] - 1s 71ms/step - loss: 2.5585 - accuracy: 0.3349\n",
            "Epoch 80/200\n",
            "18/18 [==============================] - 1s 72ms/step - loss: 2.5327 - accuracy: 0.3462\n",
            "Epoch 81/200\n",
            "18/18 [==============================] - 1s 71ms/step - loss: 2.4525 - accuracy: 0.3532\n",
            "Epoch 82/200\n",
            "18/18 [==============================] - 1s 71ms/step - loss: 2.3669 - accuracy: 0.3623\n",
            "Epoch 83/200\n",
            "18/18 [==============================] - 1s 71ms/step - loss: 2.3010 - accuracy: 0.3858\n",
            "Epoch 84/200\n",
            "18/18 [==============================] - 1s 72ms/step - loss: 2.2636 - accuracy: 0.3888\n",
            "Epoch 85/200\n",
            "18/18 [==============================] - 1s 72ms/step - loss: 2.3001 - accuracy: 0.3801\n",
            "Epoch 86/200\n",
            "18/18 [==============================] - 1s 72ms/step - loss: 2.1780 - accuracy: 0.4053\n",
            "Epoch 87/200\n",
            "18/18 [==============================] - 1s 72ms/step - loss: 2.0914 - accuracy: 0.4262\n",
            "Epoch 88/200\n",
            "18/18 [==============================] - 1s 72ms/step - loss: 2.0303 - accuracy: 0.4361\n",
            "Epoch 89/200\n",
            "18/18 [==============================] - 1s 73ms/step - loss: 1.9954 - accuracy: 0.4327\n",
            "Epoch 90/200\n",
            "18/18 [==============================] - 1s 71ms/step - loss: 1.9644 - accuracy: 0.4496\n",
            "Epoch 91/200\n",
            "18/18 [==============================] - 1s 71ms/step - loss: 1.9177 - accuracy: 0.4670\n",
            "Epoch 92/200\n",
            "18/18 [==============================] - 1s 71ms/step - loss: 1.8761 - accuracy: 0.4739\n",
            "Epoch 93/200\n",
            "18/18 [==============================] - 1s 73ms/step - loss: 1.8128 - accuracy: 0.5065\n",
            "Epoch 94/200\n",
            "18/18 [==============================] - 1s 72ms/step - loss: 1.7629 - accuracy: 0.5078\n",
            "Epoch 95/200\n",
            "18/18 [==============================] - 1s 72ms/step - loss: 1.7503 - accuracy: 0.4996\n",
            "Epoch 96/200\n",
            "18/18 [==============================] - 1s 73ms/step - loss: 1.7249 - accuracy: 0.5109\n",
            "Epoch 97/200\n",
            "18/18 [==============================] - 1s 72ms/step - loss: 1.7472 - accuracy: 0.4996\n",
            "Epoch 98/200\n",
            "18/18 [==============================] - 1s 72ms/step - loss: 1.6895 - accuracy: 0.5156\n",
            "Epoch 99/200\n",
            "18/18 [==============================] - 1s 73ms/step - loss: 1.6751 - accuracy: 0.5174\n",
            "Epoch 100/200\n",
            "18/18 [==============================] - 1s 73ms/step - loss: 1.6402 - accuracy: 0.5248\n",
            "Epoch 101/200\n",
            "18/18 [==============================] - 1s 71ms/step - loss: 1.5621 - accuracy: 0.5534\n",
            "Epoch 102/200\n",
            "18/18 [==============================] - 1s 72ms/step - loss: 1.5293 - accuracy: 0.5573\n",
            "Epoch 103/200\n",
            "18/18 [==============================] - 1s 72ms/step - loss: 1.4730 - accuracy: 0.5843\n",
            "Epoch 104/200\n",
            "18/18 [==============================] - 1s 73ms/step - loss: 1.4810 - accuracy: 0.5725\n",
            "Epoch 105/200\n",
            "18/18 [==============================] - 1s 73ms/step - loss: 1.4651 - accuracy: 0.5830\n",
            "Epoch 106/200\n",
            "18/18 [==============================] - 1s 71ms/step - loss: 1.4564 - accuracy: 0.5856\n",
            "Epoch 107/200\n",
            "18/18 [==============================] - 1s 73ms/step - loss: 1.4173 - accuracy: 0.5843\n",
            "Epoch 108/200\n",
            "18/18 [==============================] - 1s 72ms/step - loss: 1.4131 - accuracy: 0.5899\n",
            "Epoch 109/200\n",
            "18/18 [==============================] - 1s 73ms/step - loss: 1.3995 - accuracy: 0.6047\n",
            "Epoch 110/200\n",
            "18/18 [==============================] - 1s 73ms/step - loss: 1.3807 - accuracy: 0.6017\n",
            "Epoch 111/200\n",
            "18/18 [==============================] - 1s 73ms/step - loss: 1.3073 - accuracy: 0.6203\n",
            "Epoch 112/200\n",
            "18/18 [==============================] - 1s 72ms/step - loss: 1.2557 - accuracy: 0.6468\n",
            "Epoch 113/200\n",
            "18/18 [==============================] - 1s 71ms/step - loss: 1.2366 - accuracy: 0.6494\n",
            "Epoch 114/200\n",
            "18/18 [==============================] - 1s 72ms/step - loss: 1.2106 - accuracy: 0.6694\n",
            "Epoch 115/200\n",
            "18/18 [==============================] - 1s 73ms/step - loss: 1.1917 - accuracy: 0.6577\n",
            "Epoch 116/200\n",
            "18/18 [==============================] - 1s 72ms/step - loss: 1.1953 - accuracy: 0.6694\n",
            "Epoch 117/200\n",
            "18/18 [==============================] - 1s 73ms/step - loss: 1.2563 - accuracy: 0.6447\n",
            "Epoch 118/200\n",
            "18/18 [==============================] - 1s 72ms/step - loss: 1.2205 - accuracy: 0.6486\n",
            "Epoch 119/200\n",
            "18/18 [==============================] - 1s 73ms/step - loss: 1.1653 - accuracy: 0.6564\n",
            "Epoch 120/200\n",
            "18/18 [==============================] - 1s 72ms/step - loss: 1.1129 - accuracy: 0.6894\n",
            "Epoch 121/200\n",
            "18/18 [==============================] - 1s 72ms/step - loss: 1.1041 - accuracy: 0.6885\n",
            "Epoch 122/200\n",
            "18/18 [==============================] - 1s 72ms/step - loss: 1.1127 - accuracy: 0.6790\n",
            "Epoch 123/200\n",
            "18/18 [==============================] - 1s 72ms/step - loss: 1.2007 - accuracy: 0.6542\n",
            "Epoch 124/200\n",
            "18/18 [==============================] - 1s 72ms/step - loss: 1.1672 - accuracy: 0.6672\n",
            "Epoch 125/200\n",
            "18/18 [==============================] - 1s 73ms/step - loss: 1.1333 - accuracy: 0.6816\n",
            "Epoch 126/200\n",
            "18/18 [==============================] - 1s 73ms/step - loss: 1.0152 - accuracy: 0.7133\n",
            "Epoch 127/200\n",
            "18/18 [==============================] - 1s 72ms/step - loss: 0.9948 - accuracy: 0.7255\n",
            "Epoch 128/200\n",
            "18/18 [==============================] - 1s 73ms/step - loss: 0.9634 - accuracy: 0.7242\n",
            "Epoch 129/200\n",
            "18/18 [==============================] - 1s 74ms/step - loss: 0.9860 - accuracy: 0.7176\n",
            "Epoch 130/200\n",
            "18/18 [==============================] - 1s 73ms/step - loss: 0.9603 - accuracy: 0.7350\n",
            "Epoch 131/200\n",
            "18/18 [==============================] - 1s 73ms/step - loss: 0.9763 - accuracy: 0.7307\n",
            "Epoch 132/200\n",
            "18/18 [==============================] - 1s 73ms/step - loss: 0.9398 - accuracy: 0.7328\n",
            "Epoch 133/200\n",
            "18/18 [==============================] - 1s 72ms/step - loss: 0.9211 - accuracy: 0.7320\n",
            "Epoch 134/200\n",
            "18/18 [==============================] - 1s 71ms/step - loss: 0.8897 - accuracy: 0.7459\n",
            "Epoch 135/200\n",
            "18/18 [==============================] - 1s 73ms/step - loss: 0.8926 - accuracy: 0.7463\n",
            "Epoch 136/200\n",
            "18/18 [==============================] - 1s 73ms/step - loss: 0.8348 - accuracy: 0.7663\n",
            "Epoch 137/200\n",
            "18/18 [==============================] - 1s 72ms/step - loss: 0.8606 - accuracy: 0.7541\n",
            "Epoch 138/200\n",
            "18/18 [==============================] - 1s 72ms/step - loss: 0.9153 - accuracy: 0.7211\n",
            "Epoch 139/200\n",
            "18/18 [==============================] - 1s 73ms/step - loss: 0.8600 - accuracy: 0.7563\n",
            "Epoch 140/200\n",
            "18/18 [==============================] - 1s 72ms/step - loss: 0.8522 - accuracy: 0.7563\n",
            "Epoch 141/200\n",
            "18/18 [==============================] - 1s 73ms/step - loss: 0.8242 - accuracy: 0.7498\n",
            "Epoch 142/200\n",
            "18/18 [==============================] - 1s 72ms/step - loss: 0.7926 - accuracy: 0.7750\n",
            "Epoch 143/200\n",
            "18/18 [==============================] - 1s 72ms/step - loss: 0.7777 - accuracy: 0.7789\n",
            "Epoch 144/200\n",
            "18/18 [==============================] - 1s 73ms/step - loss: 0.7440 - accuracy: 0.7945\n",
            "Epoch 145/200\n",
            "18/18 [==============================] - 1s 73ms/step - loss: 0.7621 - accuracy: 0.7793\n",
            "Epoch 146/200\n",
            "18/18 [==============================] - 1s 73ms/step - loss: 0.7312 - accuracy: 0.7919\n",
            "Epoch 147/200\n",
            "18/18 [==============================] - 1s 74ms/step - loss: 0.7324 - accuracy: 0.7858\n",
            "Epoch 148/200\n",
            "18/18 [==============================] - 1s 72ms/step - loss: 0.7225 - accuracy: 0.8032\n",
            "Epoch 149/200\n",
            "18/18 [==============================] - 1s 73ms/step - loss: 0.7193 - accuracy: 0.7945\n",
            "Epoch 150/200\n",
            "18/18 [==============================] - 1s 72ms/step - loss: 0.7036 - accuracy: 0.8045\n",
            "Epoch 151/200\n",
            "18/18 [==============================] - 1s 72ms/step - loss: 0.6610 - accuracy: 0.8071\n",
            "Epoch 152/200\n",
            "18/18 [==============================] - 1s 72ms/step - loss: 0.6494 - accuracy: 0.8158\n",
            "Epoch 153/200\n",
            "18/18 [==============================] - 1s 72ms/step - loss: 0.6643 - accuracy: 0.8119\n",
            "Epoch 154/200\n",
            "18/18 [==============================] - 1s 72ms/step - loss: 0.6571 - accuracy: 0.8080\n",
            "Epoch 155/200\n",
            "18/18 [==============================] - 1s 73ms/step - loss: 0.6501 - accuracy: 0.8184\n",
            "Epoch 156/200\n",
            "18/18 [==============================] - 1s 73ms/step - loss: 0.6538 - accuracy: 0.8050\n",
            "Epoch 157/200\n",
            "18/18 [==============================] - 1s 73ms/step - loss: 0.6600 - accuracy: 0.8219\n",
            "Epoch 158/200\n",
            "18/18 [==============================] - 1s 73ms/step - loss: 0.6763 - accuracy: 0.8119\n",
            "Epoch 159/200\n",
            "18/18 [==============================] - 1s 74ms/step - loss: 0.6577 - accuracy: 0.8206\n",
            "Epoch 160/200\n",
            "18/18 [==============================] - 1s 73ms/step - loss: 0.6357 - accuracy: 0.8206\n",
            "Epoch 161/200\n",
            "18/18 [==============================] - 1s 72ms/step - loss: 0.6266 - accuracy: 0.8228\n",
            "Epoch 162/200\n",
            "18/18 [==============================] - 1s 72ms/step - loss: 0.5948 - accuracy: 0.8354\n",
            "Epoch 163/200\n",
            "18/18 [==============================] - 1s 73ms/step - loss: 0.5761 - accuracy: 0.8488\n",
            "Epoch 164/200\n",
            "18/18 [==============================] - 1s 73ms/step - loss: 0.5816 - accuracy: 0.8393\n",
            "Epoch 165/200\n",
            "18/18 [==============================] - 1s 73ms/step - loss: 0.5833 - accuracy: 0.8315\n",
            "Epoch 166/200\n",
            "18/18 [==============================] - 1s 73ms/step - loss: 0.6040 - accuracy: 0.8202\n",
            "Epoch 167/200\n",
            "18/18 [==============================] - 1s 73ms/step - loss: 0.6820 - accuracy: 0.8102\n",
            "Epoch 168/200\n",
            "18/18 [==============================] - 1s 73ms/step - loss: 0.6236 - accuracy: 0.8202\n",
            "Epoch 169/200\n",
            "18/18 [==============================] - 1s 71ms/step - loss: 0.5710 - accuracy: 0.8328\n",
            "Epoch 170/200\n",
            "18/18 [==============================] - 1s 73ms/step - loss: 0.5604 - accuracy: 0.8445\n",
            "Epoch 171/200\n",
            "18/18 [==============================] - 1s 72ms/step - loss: 0.5507 - accuracy: 0.8445\n",
            "Epoch 172/200\n",
            "18/18 [==============================] - 1s 73ms/step - loss: 0.5726 - accuracy: 0.8436\n",
            "Epoch 173/200\n",
            "18/18 [==============================] - 1s 74ms/step - loss: 0.5566 - accuracy: 0.8501\n",
            "Epoch 174/200\n",
            "18/18 [==============================] - 1s 73ms/step - loss: 0.5412 - accuracy: 0.8427\n",
            "Epoch 175/200\n",
            "18/18 [==============================] - 1s 73ms/step - loss: 0.5759 - accuracy: 0.8497\n",
            "Epoch 176/200\n",
            "18/18 [==============================] - 1s 72ms/step - loss: 0.5686 - accuracy: 0.8401\n",
            "Epoch 177/200\n",
            "18/18 [==============================] - 1s 73ms/step - loss: 0.5512 - accuracy: 0.8362\n",
            "Epoch 178/200\n",
            "18/18 [==============================] - 1s 72ms/step - loss: 0.5133 - accuracy: 0.8584\n",
            "Epoch 179/200\n",
            "18/18 [==============================] - 1s 71ms/step - loss: 0.4624 - accuracy: 0.8814\n",
            "Epoch 180/200\n",
            "18/18 [==============================] - 1s 71ms/step - loss: 0.4795 - accuracy: 0.8623\n",
            "Epoch 181/200\n",
            "18/18 [==============================] - 1s 77ms/step - loss: 0.5126 - accuracy: 0.8623\n",
            "Epoch 182/200\n",
            "18/18 [==============================] - 1s 77ms/step - loss: 0.5086 - accuracy: 0.8619\n",
            "Epoch 183/200\n",
            "18/18 [==============================] - 1s 79ms/step - loss: 0.5162 - accuracy: 0.8562\n",
            "Epoch 184/200\n",
            "18/18 [==============================] - 1s 82ms/step - loss: 0.5164 - accuracy: 0.8506\n",
            "Epoch 185/200\n",
            "18/18 [==============================] - 1s 78ms/step - loss: 0.5434 - accuracy: 0.8384\n",
            "Epoch 186/200\n",
            "18/18 [==============================] - 1s 82ms/step - loss: 0.5396 - accuracy: 0.8475\n",
            "Epoch 187/200\n",
            "18/18 [==============================] - 1s 79ms/step - loss: 0.6298 - accuracy: 0.8202\n",
            "Epoch 188/200\n",
            "18/18 [==============================] - 1s 73ms/step - loss: 0.6531 - accuracy: 0.8019\n",
            "Epoch 189/200\n",
            "18/18 [==============================] - 1s 72ms/step - loss: 0.4975 - accuracy: 0.8597\n",
            "Epoch 190/200\n",
            "18/18 [==============================] - 1s 71ms/step - loss: 0.4595 - accuracy: 0.8697\n",
            "Epoch 191/200\n",
            "18/18 [==============================] - 1s 72ms/step - loss: 0.4109 - accuracy: 0.8844\n",
            "Epoch 192/200\n",
            "18/18 [==============================] - 1s 72ms/step - loss: 0.3861 - accuracy: 0.8953\n",
            "Epoch 193/200\n",
            "18/18 [==============================] - 1s 72ms/step - loss: 0.3875 - accuracy: 0.8962\n",
            "Epoch 194/200\n",
            "18/18 [==============================] - 1s 73ms/step - loss: 0.3933 - accuracy: 0.8962\n",
            "Epoch 195/200\n",
            "18/18 [==============================] - 1s 72ms/step - loss: 0.4016 - accuracy: 0.8871\n",
            "Epoch 196/200\n",
            "18/18 [==============================] - 1s 72ms/step - loss: 0.3862 - accuracy: 0.8931\n",
            "Epoch 197/200\n",
            "18/18 [==============================] - 1s 72ms/step - loss: 0.3788 - accuracy: 0.8997\n",
            "Epoch 198/200\n",
            "18/18 [==============================] - 1s 73ms/step - loss: 0.3899 - accuracy: 0.8970\n",
            "Epoch 199/200\n",
            "18/18 [==============================] - 1s 73ms/step - loss: 0.3961 - accuracy: 0.8918\n",
            "Epoch 200/200\n",
            "18/18 [==============================] - 1s 71ms/step - loss: 0.3778 - accuracy: 0.9001\n"
          ]
        }
      ]
    },
    {
      "cell_type": "code",
      "source": [
        "results_virt(his1)"
      ],
      "metadata": {
        "colab": {
          "base_uri": "https://localhost:8080/",
          "height": 493
        },
        "id": "yCGw-PHpiC0K",
        "outputId": "a02a1ae9-031b-41c3-b6aa-e65d86f9410a"
      },
      "execution_count": null,
      "outputs": [
        {
          "output_type": "display_data",
          "data": {
            "text/plain": [
              "<Figure size 1800x504 with 2 Axes>"
            ],
            "image/png": "[encoded data removed]"
          },
          "metadata": {
            "needs_background": "light"
          }
        }
      ]
    },
    {
      "cell_type": "markdown",
      "source": [
        "<h3><center>Generating Text"
      ],
      "metadata": {
        "id": "8mEFERXiwjZJ"
      }
    },
    {
      "cell_type": "code",
      "source": [
        "def generate_seq(model, tokenizer, seq_length, seed_text, n_words):\n",
        "    result = list()\n",
        "    in_text = seed_text\n",
        "    for _ in range(n_words):\n",
        "        encoded = tokenizer.texts_to_sequences([in_text])[0]\n",
        "        encoded = pad_sequences([encoded], maxlen=seq_length, truncating='pre')\n",
        "        # yhat = model.predict_classes(encoded, verbose=0)\n",
        "        yhat=model.predict(encoded) \n",
        "        yhat=np.argmax(yhat,axis=1)\n",
        "        out_word = ''\n",
        "        for word, index in tokenizer.word_index.items():\n",
        "            if index == yhat:\n",
        "                out_word = word\n",
        "                break\n",
        "        in_text += ' ' + out_word\n",
        "        result.append(out_word)\n",
        "    return ' '.join(result)"
      ],
      "metadata": {
        "trusted": true,
        "id": "U9N-Y8SBwjZK"
      },
      "execution_count": null,
      "outputs": []
    },
    {
      "cell_type": "code",
      "source": [
        "seed_text = sequences[randint(0,len(sequences))]\n",
        "print(seed_text + '\\n')\n",
        "# generate new text\n",
        "generated = generate_seq(model, tokenizer, seq_length, seed_text, 50) \n",
        "print(generated)"
      ],
      "metadata": {
        "trusted": true,
        "colab": {
          "base_uri": "https://localhost:8080/"
        },
        "id": "tTedzfFEwjZK",
        "outputId": "eba578b7-d701-4319-e6cd-45784b317856"
      },
      "execution_count": null,
      "outputs": [
        {
          "output_type": "stream",
          "name": "stdout",
          "text": [
            "of the visible and intelligible fixed in your mind i have now take a line which has been cut into two unequal parts and divide each of them again in the same proportion and suppose the two main divisions to answer one to the visible and the other to the intelligible\n",
            "\n",
            "visible sons double is which that sort that sort that the state but be not be be not be be not if a same should may you any should has suffered will will will will will you will will will will you will will will will will you will will\n"
          ]
        }
      ]
    },
    {
      "cell_type": "markdown",
      "source": [
        "#LSTM Trial #2"
      ],
      "metadata": {
        "id": "QExIdLwEmXLu"
      }
    },
    {
      "cell_type": "code",
      "source": [
        "def define_model(vocab_size, inputlength):\n",
        "    model = Sequential()\n",
        "    \n",
        "    model.add(Embedding(vocab_size, 100, input_length=seq_length))\n",
        "    model.add(LSTM(128,dropout=0.3))\n",
        "    # model.add(LSTM(64, return_sequences=True,dropout=0.3))\n",
        "    # model.add(LSTM(100))\n",
        "    model.add(Dense(100))\n",
        "    model.add(Dropout(0.2))\n",
        "    model.add(Dense(vocab_size, activation='softmax'))\n",
        "    \n",
        "    model.compile(loss='categorical_crossentropy', optimizer='adam', metrics=['accuracy'])\n",
        "    model.summary()\n",
        "    plot_model(model, to_file='model.png', show_shapes=True)\n",
        "    return model\n",
        "\n"
      ],
      "metadata": {
        "trusted": true,
        "id": "VlOxpOq9mQ24"
      },
      "execution_count": null,
      "outputs": []
    },
    {
      "cell_type": "code",
      "source": [
        "model = define_model(vocab_size, seq_length)"
      ],
      "metadata": {
        "trusted": true,
        "colab": {
          "base_uri": "https://localhost:8080/"
        },
        "outputId": "83a8dc47-5301-4715-b69b-0ae1db81bd22",
        "id": "1QFcvKPQmQ25"
      },
      "execution_count": null,
      "outputs": [
        {
          "output_type": "stream",
          "name": "stdout",
          "text": [
            "Model: \"sequential_8\"\n",
            "_________________________________________________________________\n",
            " Layer (type)                Output Shape              Param #   \n",
            "=================================================================\n",
            " embedding_8 (Embedding)     (None, 50, 100)           734000    \n",
            "                                                                 \n",
            " lstm_17 (LSTM)              (None, 128)               117248    \n",
            "                                                                 \n",
            " dense_16 (Dense)            (None, 100)               12900     \n",
            "                                                                 \n",
            " dropout_8 (Dropout)         (None, 100)               0         \n",
            "                                                                 \n",
            " dense_17 (Dense)            (None, 7340)              741340    \n",
            "                                                                 \n",
            "=================================================================\n",
            "Total params: 1,605,488\n",
            "Trainable params: 1,605,488\n",
            "Non-trainable params: 0\n",
            "_________________________________________________________________\n"
          ]
        }
      ]
    },
    {
      "cell_type": "markdown",
      "source": [
        "<h3><center>Training Model"
      ],
      "metadata": {
        "id": "QlNWXpW-mQ26"
      }
    },
    {
      "cell_type": "code",
      "source": [
        "# model.fit(X, y, batch_size=128, epochs=200, validation_split=0.1)\n",
        "his1=model.fit(X, y, batch_size=128, epochs=200)"
      ],
      "metadata": {
        "_kg_hide-output": true,
        "trusted": true,
        "colab": {
          "base_uri": "https://localhost:8080/"
        },
        "outputId": "db9fa0de-ee26-4119-db92-aeb0c26c4cb7",
        "id": "w-DqWVLmmQ26"
      },
      "execution_count": null,
      "outputs": [
        {
          "output_type": "stream",
          "name": "stdout",
          "text": [
            "Epoch 1/200\n",
            "18/18 [==============================] - 3s 32ms/step - loss: 8.6346 - accuracy: 0.0417\n",
            "Epoch 2/200\n",
            "18/18 [==============================] - 1s 32ms/step - loss: 6.3054 - accuracy: 0.0530\n",
            "Epoch 3/200\n",
            "18/18 [==============================] - 1s 33ms/step - loss: 5.7996 - accuracy: 0.0539\n",
            "Epoch 4/200\n",
            "18/18 [==============================] - 1s 31ms/step - loss: 5.6834 - accuracy: 0.0578\n",
            "Epoch 5/200\n",
            "18/18 [==============================] - 1s 32ms/step - loss: 5.6365 - accuracy: 0.0573\n",
            "Epoch 6/200\n",
            "18/18 [==============================] - 1s 33ms/step - loss: 5.6186 - accuracy: 0.0500\n",
            "Epoch 7/200\n",
            "18/18 [==============================] - 1s 34ms/step - loss: 5.5929 - accuracy: 0.0595\n",
            "Epoch 8/200\n",
            "18/18 [==============================] - 1s 33ms/step - loss: 5.5709 - accuracy: 0.0526\n",
            "Epoch 9/200\n",
            "18/18 [==============================] - 1s 32ms/step - loss: 5.5265 - accuracy: 0.0582\n",
            "Epoch 10/200\n",
            "18/18 [==============================] - 1s 32ms/step - loss: 5.4878 - accuracy: 0.0526\n",
            "Epoch 11/200\n",
            "18/18 [==============================] - 1s 32ms/step - loss: 5.4483 - accuracy: 0.0569\n",
            "Epoch 12/200\n",
            "18/18 [==============================] - 1s 32ms/step - loss: 5.4113 - accuracy: 0.0643\n",
            "Epoch 13/200\n",
            "18/18 [==============================] - 1s 32ms/step - loss: 5.3846 - accuracy: 0.0586\n",
            "Epoch 14/200\n",
            "18/18 [==============================] - 1s 32ms/step - loss: 5.3614 - accuracy: 0.0565\n",
            "Epoch 15/200\n",
            "18/18 [==============================] - 1s 32ms/step - loss: 5.3449 - accuracy: 0.0621\n",
            "Epoch 16/200\n",
            "18/18 [==============================] - 1s 32ms/step - loss: 5.3131 - accuracy: 0.0760\n",
            "Epoch 17/200\n",
            "18/18 [==============================] - 1s 32ms/step - loss: 5.2811 - accuracy: 0.0795\n",
            "Epoch 18/200\n",
            "18/18 [==============================] - 1s 32ms/step - loss: 5.2371 - accuracy: 0.0791\n",
            "Epoch 19/200\n",
            "18/18 [==============================] - 1s 33ms/step - loss: 5.1936 - accuracy: 0.0830\n",
            "Epoch 20/200\n",
            "18/18 [==============================] - 1s 32ms/step - loss: 5.1472 - accuracy: 0.0847\n",
            "Epoch 21/200\n",
            "18/18 [==============================] - 1s 33ms/step - loss: 5.1040 - accuracy: 0.0860\n",
            "Epoch 22/200\n",
            "18/18 [==============================] - 1s 32ms/step - loss: 5.0526 - accuracy: 0.0934\n",
            "Epoch 23/200\n",
            "18/18 [==============================] - 1s 33ms/step - loss: 4.9927 - accuracy: 0.0921\n",
            "Epoch 24/200\n",
            "18/18 [==============================] - 1s 32ms/step - loss: 4.9158 - accuracy: 0.0947\n",
            "Epoch 25/200\n",
            "18/18 [==============================] - 1s 33ms/step - loss: 4.8450 - accuracy: 0.1064\n",
            "Epoch 26/200\n",
            "18/18 [==============================] - 1s 32ms/step - loss: 4.7610 - accuracy: 0.1138\n",
            "Epoch 27/200\n",
            "18/18 [==============================] - 1s 32ms/step - loss: 4.6752 - accuracy: 0.1116\n",
            "Epoch 28/200\n",
            "18/18 [==============================] - 1s 32ms/step - loss: 4.6020 - accuracy: 0.1173\n",
            "Epoch 29/200\n",
            "18/18 [==============================] - 1s 33ms/step - loss: 4.5085 - accuracy: 0.1273\n",
            "Epoch 30/200\n",
            "18/18 [==============================] - 1s 32ms/step - loss: 4.4580 - accuracy: 0.1329\n",
            "Epoch 31/200\n",
            "18/18 [==============================] - 1s 32ms/step - loss: 4.3842 - accuracy: 0.1355\n",
            "Epoch 32/200\n",
            "18/18 [==============================] - 1s 32ms/step - loss: 4.2933 - accuracy: 0.1460\n",
            "Epoch 33/200\n",
            "18/18 [==============================] - 1s 32ms/step - loss: 4.2287 - accuracy: 0.1477\n",
            "Epoch 34/200\n",
            "18/18 [==============================] - 1s 32ms/step - loss: 4.1582 - accuracy: 0.1573\n",
            "Epoch 35/200\n",
            "18/18 [==============================] - 1s 32ms/step - loss: 4.0911 - accuracy: 0.1642\n",
            "Epoch 36/200\n",
            "18/18 [==============================] - 1s 32ms/step - loss: 4.0108 - accuracy: 0.1772\n",
            "Epoch 37/200\n",
            "18/18 [==============================] - 1s 32ms/step - loss: 3.9625 - accuracy: 0.1690\n",
            "Epoch 38/200\n",
            "18/18 [==============================] - 1s 32ms/step - loss: 3.9110 - accuracy: 0.1777\n",
            "Epoch 39/200\n",
            "18/18 [==============================] - 1s 38ms/step - loss: 3.8185 - accuracy: 0.1842\n",
            "Epoch 40/200\n",
            "18/18 [==============================] - 1s 32ms/step - loss: 3.7734 - accuracy: 0.1911\n",
            "Epoch 41/200\n",
            "18/18 [==============================] - 1s 33ms/step - loss: 3.6801 - accuracy: 0.2059\n",
            "Epoch 42/200\n",
            "18/18 [==============================] - 1s 33ms/step - loss: 3.6126 - accuracy: 0.2016\n",
            "Epoch 43/200\n",
            "18/18 [==============================] - 1s 32ms/step - loss: 3.5635 - accuracy: 0.2094\n",
            "Epoch 44/200\n",
            "18/18 [==============================] - 1s 32ms/step - loss: 3.5210 - accuracy: 0.2098\n",
            "Epoch 45/200\n",
            "18/18 [==============================] - 1s 32ms/step - loss: 3.4404 - accuracy: 0.2276\n",
            "Epoch 46/200\n",
            "18/18 [==============================] - 1s 32ms/step - loss: 3.3772 - accuracy: 0.2354\n",
            "Epoch 47/200\n",
            "18/18 [==============================] - 1s 32ms/step - loss: 3.2772 - accuracy: 0.2385\n",
            "Epoch 48/200\n",
            "18/18 [==============================] - 1s 32ms/step - loss: 3.2215 - accuracy: 0.2459\n",
            "Epoch 49/200\n",
            "18/18 [==============================] - 1s 32ms/step - loss: 3.1406 - accuracy: 0.2615\n",
            "Epoch 50/200\n",
            "18/18 [==============================] - 1s 34ms/step - loss: 3.0784 - accuracy: 0.2745\n",
            "Epoch 51/200\n",
            "18/18 [==============================] - 1s 33ms/step - loss: 3.0172 - accuracy: 0.2719\n",
            "Epoch 52/200\n",
            "18/18 [==============================] - 1s 33ms/step - loss: 2.9480 - accuracy: 0.2897\n",
            "Epoch 53/200\n",
            "18/18 [==============================] - 1s 32ms/step - loss: 2.8770 - accuracy: 0.2993\n",
            "Epoch 54/200\n",
            "18/18 [==============================] - 1s 32ms/step - loss: 2.7789 - accuracy: 0.3223\n",
            "Epoch 55/200\n",
            "18/18 [==============================] - 1s 33ms/step - loss: 2.7288 - accuracy: 0.3258\n",
            "Epoch 56/200\n",
            "18/18 [==============================] - 1s 32ms/step - loss: 2.6436 - accuracy: 0.3349\n",
            "Epoch 57/200\n",
            "18/18 [==============================] - 1s 32ms/step - loss: 2.5618 - accuracy: 0.3549\n",
            "Epoch 58/200\n",
            "18/18 [==============================] - 1s 32ms/step - loss: 2.4959 - accuracy: 0.3679\n",
            "Epoch 59/200\n",
            "18/18 [==============================] - 1s 32ms/step - loss: 2.4160 - accuracy: 0.3732\n",
            "Epoch 60/200\n",
            "18/18 [==============================] - 1s 32ms/step - loss: 2.3314 - accuracy: 0.3962\n",
            "Epoch 61/200\n",
            "18/18 [==============================] - 1s 33ms/step - loss: 2.3019 - accuracy: 0.3966\n",
            "Epoch 62/200\n",
            "18/18 [==============================] - 1s 32ms/step - loss: 2.1988 - accuracy: 0.4218\n",
            "Epoch 63/200\n",
            "18/18 [==============================] - 1s 33ms/step - loss: 2.0987 - accuracy: 0.4492\n",
            "Epoch 64/200\n",
            "18/18 [==============================] - 1s 32ms/step - loss: 1.9963 - accuracy: 0.4709\n",
            "Epoch 65/200\n",
            "18/18 [==============================] - 1s 32ms/step - loss: 1.9376 - accuracy: 0.4839\n",
            "Epoch 66/200\n",
            "18/18 [==============================] - 1s 32ms/step - loss: 1.8649 - accuracy: 0.5130\n",
            "Epoch 67/200\n",
            "18/18 [==============================] - 1s 32ms/step - loss: 1.7906 - accuracy: 0.5191\n",
            "Epoch 68/200\n",
            "18/18 [==============================] - 1s 32ms/step - loss: 1.7126 - accuracy: 0.5456\n",
            "Epoch 69/200\n",
            "18/18 [==============================] - 1s 33ms/step - loss: 1.6580 - accuracy: 0.5552\n",
            "Epoch 70/200\n",
            "18/18 [==============================] - 1s 32ms/step - loss: 1.5927 - accuracy: 0.5760\n",
            "Epoch 71/200\n",
            "18/18 [==============================] - 1s 33ms/step - loss: 1.5471 - accuracy: 0.5860\n",
            "Epoch 72/200\n",
            "18/18 [==============================] - 1s 32ms/step - loss: 1.4563 - accuracy: 0.6134\n",
            "Epoch 73/200\n",
            "18/18 [==============================] - 1s 33ms/step - loss: 1.4134 - accuracy: 0.6147\n",
            "Epoch 74/200\n",
            "18/18 [==============================] - 1s 32ms/step - loss: 1.3532 - accuracy: 0.6381\n",
            "Epoch 75/200\n",
            "18/18 [==============================] - 1s 32ms/step - loss: 1.2967 - accuracy: 0.6616\n",
            "Epoch 76/200\n",
            "18/18 [==============================] - 1s 32ms/step - loss: 1.2183 - accuracy: 0.6755\n",
            "Epoch 77/200\n",
            "18/18 [==============================] - 1s 33ms/step - loss: 1.1965 - accuracy: 0.6937\n",
            "Epoch 78/200\n",
            "18/18 [==============================] - 1s 32ms/step - loss: 1.1091 - accuracy: 0.7081\n",
            "Epoch 79/200\n",
            "18/18 [==============================] - 1s 32ms/step - loss: 1.0614 - accuracy: 0.7194\n",
            "Epoch 80/200\n",
            "18/18 [==============================] - 1s 31ms/step - loss: 1.0217 - accuracy: 0.7381\n",
            "Epoch 81/200\n",
            "18/18 [==============================] - 1s 32ms/step - loss: 0.9659 - accuracy: 0.7507\n",
            "Epoch 82/200\n",
            "18/18 [==============================] - 1s 32ms/step - loss: 0.9172 - accuracy: 0.7619\n",
            "Epoch 83/200\n",
            "18/18 [==============================] - 1s 32ms/step - loss: 0.9013 - accuracy: 0.7624\n",
            "Epoch 84/200\n",
            "18/18 [==============================] - 1s 32ms/step - loss: 0.8445 - accuracy: 0.7871\n",
            "Epoch 85/200\n",
            "18/18 [==============================] - 1s 33ms/step - loss: 0.7940 - accuracy: 0.7976\n",
            "Epoch 86/200\n",
            "18/18 [==============================] - 1s 33ms/step - loss: 0.7743 - accuracy: 0.8050\n",
            "Epoch 87/200\n",
            "18/18 [==============================] - 1s 33ms/step - loss: 0.7376 - accuracy: 0.8202\n",
            "Epoch 88/200\n",
            "18/18 [==============================] - 1s 33ms/step - loss: 0.6955 - accuracy: 0.8297\n",
            "Epoch 89/200\n",
            "18/18 [==============================] - 1s 33ms/step - loss: 0.6505 - accuracy: 0.8423\n",
            "Epoch 90/200\n",
            "18/18 [==============================] - 1s 34ms/step - loss: 0.6098 - accuracy: 0.8545\n",
            "Epoch 91/200\n",
            "18/18 [==============================] - 1s 33ms/step - loss: 0.6078 - accuracy: 0.8540\n",
            "Epoch 92/200\n",
            "18/18 [==============================] - 1s 33ms/step - loss: 0.5540 - accuracy: 0.8766\n",
            "Epoch 93/200\n",
            "18/18 [==============================] - 1s 34ms/step - loss: 0.5171 - accuracy: 0.8836\n",
            "Epoch 94/200\n",
            "18/18 [==============================] - 1s 33ms/step - loss: 0.5129 - accuracy: 0.8844\n",
            "Epoch 95/200\n",
            "18/18 [==============================] - 1s 33ms/step - loss: 0.4898 - accuracy: 0.8979\n",
            "Epoch 96/200\n",
            "18/18 [==============================] - 1s 34ms/step - loss: 0.4476 - accuracy: 0.9023\n",
            "Epoch 97/200\n",
            "18/18 [==============================] - 1s 33ms/step - loss: 0.4459 - accuracy: 0.9001\n",
            "Epoch 98/200\n",
            "18/18 [==============================] - 1s 32ms/step - loss: 0.4232 - accuracy: 0.9031\n",
            "Epoch 99/200\n",
            "18/18 [==============================] - 1s 34ms/step - loss: 0.3811 - accuracy: 0.9248\n",
            "Epoch 100/200\n",
            "18/18 [==============================] - 1s 32ms/step - loss: 0.3904 - accuracy: 0.9170\n",
            "Epoch 101/200\n",
            "18/18 [==============================] - 1s 33ms/step - loss: 0.3676 - accuracy: 0.9253\n",
            "Epoch 102/200\n",
            "18/18 [==============================] - 1s 33ms/step - loss: 0.3464 - accuracy: 0.9279\n",
            "Epoch 103/200\n",
            "18/18 [==============================] - 1s 33ms/step - loss: 0.3180 - accuracy: 0.9396\n",
            "Epoch 104/200\n",
            "18/18 [==============================] - 1s 32ms/step - loss: 0.3038 - accuracy: 0.9353\n",
            "Epoch 105/200\n",
            "18/18 [==============================] - 1s 32ms/step - loss: 0.2852 - accuracy: 0.9474\n",
            "Epoch 106/200\n",
            "18/18 [==============================] - 1s 32ms/step - loss: 0.2886 - accuracy: 0.9457\n",
            "Epoch 107/200\n",
            "18/18 [==============================] - 1s 33ms/step - loss: 0.2697 - accuracy: 0.9479\n",
            "Epoch 108/200\n",
            "18/18 [==============================] - 1s 32ms/step - loss: 0.2741 - accuracy: 0.9383\n",
            "Epoch 109/200\n",
            "18/18 [==============================] - 1s 33ms/step - loss: 0.2907 - accuracy: 0.9387\n",
            "Epoch 110/200\n",
            "18/18 [==============================] - 1s 32ms/step - loss: 0.2592 - accuracy: 0.9505\n",
            "Epoch 111/200\n",
            "18/18 [==============================] - 1s 33ms/step - loss: 0.2407 - accuracy: 0.9566\n",
            "Epoch 112/200\n",
            "18/18 [==============================] - 1s 33ms/step - loss: 0.2470 - accuracy: 0.9479\n",
            "Epoch 113/200\n",
            "18/18 [==============================] - 1s 32ms/step - loss: 0.2112 - accuracy: 0.9644\n",
            "Epoch 114/200\n",
            "18/18 [==============================] - 1s 33ms/step - loss: 0.2091 - accuracy: 0.9579\n",
            "Epoch 115/200\n",
            "18/18 [==============================] - 1s 33ms/step - loss: 0.2066 - accuracy: 0.9626\n",
            "Epoch 116/200\n",
            "18/18 [==============================] - 1s 32ms/step - loss: 0.1907 - accuracy: 0.9648\n",
            "Epoch 117/200\n",
            "18/18 [==============================] - 1s 33ms/step - loss: 0.1835 - accuracy: 0.9666\n",
            "Epoch 118/200\n",
            "18/18 [==============================] - 1s 33ms/step - loss: 0.1910 - accuracy: 0.9644\n",
            "Epoch 119/200\n",
            "18/18 [==============================] - 1s 34ms/step - loss: 0.1717 - accuracy: 0.9687\n",
            "Epoch 120/200\n",
            "18/18 [==============================] - 1s 32ms/step - loss: 0.1679 - accuracy: 0.9713\n",
            "Epoch 121/200\n",
            "18/18 [==============================] - 1s 32ms/step - loss: 0.1646 - accuracy: 0.9692\n",
            "Epoch 122/200\n",
            "18/18 [==============================] - 1s 33ms/step - loss: 0.1593 - accuracy: 0.9744\n",
            "Epoch 123/200\n",
            "18/18 [==============================] - 1s 33ms/step - loss: 0.1519 - accuracy: 0.9705\n",
            "Epoch 124/200\n",
            "18/18 [==============================] - 1s 32ms/step - loss: 0.1434 - accuracy: 0.9778\n",
            "Epoch 125/200\n",
            "18/18 [==============================] - 1s 32ms/step - loss: 0.1410 - accuracy: 0.9735\n",
            "Epoch 126/200\n",
            "18/18 [==============================] - 1s 33ms/step - loss: 0.1344 - accuracy: 0.9765\n",
            "Epoch 127/200\n",
            "18/18 [==============================] - 1s 33ms/step - loss: 0.1566 - accuracy: 0.9687\n",
            "Epoch 128/200\n",
            "18/18 [==============================] - 1s 33ms/step - loss: 0.1284 - accuracy: 0.9752\n",
            "Epoch 129/200\n",
            "18/18 [==============================] - 1s 33ms/step - loss: 0.1358 - accuracy: 0.9735\n",
            "Epoch 130/200\n",
            "18/18 [==============================] - 1s 32ms/step - loss: 0.1376 - accuracy: 0.9718\n",
            "Epoch 131/200\n",
            "18/18 [==============================] - 1s 33ms/step - loss: 0.1314 - accuracy: 0.9757\n",
            "Epoch 132/200\n",
            "18/18 [==============================] - 1s 33ms/step - loss: 0.1274 - accuracy: 0.9722\n",
            "Epoch 133/200\n",
            "18/18 [==============================] - 1s 32ms/step - loss: 0.1171 - accuracy: 0.9783\n",
            "Epoch 134/200\n",
            "18/18 [==============================] - 1s 33ms/step - loss: 0.1067 - accuracy: 0.9809\n",
            "Epoch 135/200\n",
            "18/18 [==============================] - 1s 32ms/step - loss: 0.0976 - accuracy: 0.9844\n",
            "Epoch 136/200\n",
            "18/18 [==============================] - 1s 32ms/step - loss: 0.0947 - accuracy: 0.9878\n",
            "Epoch 137/200\n",
            "18/18 [==============================] - 1s 32ms/step - loss: 0.0874 - accuracy: 0.9878\n",
            "Epoch 138/200\n",
            "18/18 [==============================] - 1s 32ms/step - loss: 0.0903 - accuracy: 0.9839\n",
            "Epoch 139/200\n",
            "18/18 [==============================] - 1s 33ms/step - loss: 0.0998 - accuracy: 0.9826\n",
            "Epoch 140/200\n",
            "18/18 [==============================] - 1s 32ms/step - loss: 0.0892 - accuracy: 0.9891\n",
            "Epoch 141/200\n",
            "18/18 [==============================] - 1s 33ms/step - loss: 0.0831 - accuracy: 0.9874\n",
            "Epoch 142/200\n",
            "18/18 [==============================] - 1s 33ms/step - loss: 0.0912 - accuracy: 0.9826\n",
            "Epoch 143/200\n",
            "18/18 [==============================] - 1s 33ms/step - loss: 0.0948 - accuracy: 0.9831\n",
            "Epoch 144/200\n",
            "18/18 [==============================] - 1s 33ms/step - loss: 0.0818 - accuracy: 0.9874\n",
            "Epoch 145/200\n",
            "18/18 [==============================] - 1s 32ms/step - loss: 0.0825 - accuracy: 0.9891\n",
            "Epoch 146/200\n",
            "18/18 [==============================] - 1s 33ms/step - loss: 0.0773 - accuracy: 0.9883\n",
            "Epoch 147/200\n",
            "18/18 [==============================] - 1s 32ms/step - loss: 0.0829 - accuracy: 0.9848\n",
            "Epoch 148/200\n",
            "18/18 [==============================] - 1s 34ms/step - loss: 0.0697 - accuracy: 0.9904\n",
            "Epoch 149/200\n",
            "18/18 [==============================] - 1s 33ms/step - loss: 0.0772 - accuracy: 0.9865\n",
            "Epoch 150/200\n",
            "18/18 [==============================] - 1s 33ms/step - loss: 0.0608 - accuracy: 0.9935\n",
            "Epoch 151/200\n",
            "18/18 [==============================] - 1s 32ms/step - loss: 0.0689 - accuracy: 0.9891\n",
            "Epoch 152/200\n",
            "18/18 [==============================] - 1s 32ms/step - loss: 0.0587 - accuracy: 0.9922\n",
            "Epoch 153/200\n",
            "18/18 [==============================] - 1s 32ms/step - loss: 0.0748 - accuracy: 0.9887\n",
            "Epoch 154/200\n",
            "18/18 [==============================] - 1s 32ms/step - loss: 0.0782 - accuracy: 0.9865\n",
            "Epoch 155/200\n",
            "18/18 [==============================] - 1s 33ms/step - loss: 0.0815 - accuracy: 0.9796\n",
            "Epoch 156/200\n",
            "18/18 [==============================] - 1s 33ms/step - loss: 0.0703 - accuracy: 0.9848\n",
            "Epoch 157/200\n",
            "18/18 [==============================] - 1s 32ms/step - loss: 0.0745 - accuracy: 0.9870\n",
            "Epoch 158/200\n",
            "18/18 [==============================] - 1s 33ms/step - loss: 0.0701 - accuracy: 0.9883\n",
            "Epoch 159/200\n",
            "18/18 [==============================] - 1s 33ms/step - loss: 0.0632 - accuracy: 0.9909\n",
            "Epoch 160/200\n",
            "18/18 [==============================] - 1s 32ms/step - loss: 0.0619 - accuracy: 0.9896\n",
            "Epoch 161/200\n",
            "18/18 [==============================] - 1s 33ms/step - loss: 0.0497 - accuracy: 0.9939\n",
            "Epoch 162/200\n",
            "18/18 [==============================] - 1s 32ms/step - loss: 0.0534 - accuracy: 0.9930\n",
            "Epoch 163/200\n",
            "18/18 [==============================] - 1s 33ms/step - loss: 0.0544 - accuracy: 0.9917\n",
            "Epoch 164/200\n",
            "18/18 [==============================] - 1s 33ms/step - loss: 0.0627 - accuracy: 0.9865\n",
            "Epoch 165/200\n",
            "18/18 [==============================] - 1s 33ms/step - loss: 0.0571 - accuracy: 0.9935\n",
            "Epoch 166/200\n",
            "18/18 [==============================] - 1s 33ms/step - loss: 0.0518 - accuracy: 0.9913\n",
            "Epoch 167/200\n",
            "18/18 [==============================] - 1s 33ms/step - loss: 0.0648 - accuracy: 0.9861\n",
            "Epoch 168/200\n",
            "18/18 [==============================] - 1s 32ms/step - loss: 0.0650 - accuracy: 0.9891\n",
            "Epoch 169/200\n",
            "18/18 [==============================] - 1s 33ms/step - loss: 0.0594 - accuracy: 0.9904\n",
            "Epoch 170/200\n",
            "18/18 [==============================] - 1s 32ms/step - loss: 0.0718 - accuracy: 0.9865\n",
            "Epoch 171/200\n",
            "18/18 [==============================] - 1s 32ms/step - loss: 0.0614 - accuracy: 0.9874\n",
            "Epoch 172/200\n",
            "18/18 [==============================] - 1s 32ms/step - loss: 0.0455 - accuracy: 0.9961\n",
            "Epoch 173/200\n",
            "18/18 [==============================] - 1s 32ms/step - loss: 0.0430 - accuracy: 0.9939\n",
            "Epoch 174/200\n",
            "18/18 [==============================] - 1s 33ms/step - loss: 0.0421 - accuracy: 0.9926\n",
            "Epoch 175/200\n",
            "18/18 [==============================] - 1s 33ms/step - loss: 0.0393 - accuracy: 0.9935\n",
            "Epoch 176/200\n",
            "18/18 [==============================] - 1s 32ms/step - loss: 0.0396 - accuracy: 0.9935\n",
            "Epoch 177/200\n",
            "18/18 [==============================] - 1s 32ms/step - loss: 0.0386 - accuracy: 0.9948\n",
            "Epoch 178/200\n",
            "18/18 [==============================] - 1s 33ms/step - loss: 0.0363 - accuracy: 0.9948\n",
            "Epoch 179/200\n",
            "18/18 [==============================] - 1s 32ms/step - loss: 0.0373 - accuracy: 0.9944\n",
            "Epoch 180/200\n",
            "18/18 [==============================] - 1s 33ms/step - loss: 0.0401 - accuracy: 0.9944\n",
            "Epoch 181/200\n",
            "18/18 [==============================] - 1s 32ms/step - loss: 0.0450 - accuracy: 0.9904\n",
            "Epoch 182/200\n",
            "18/18 [==============================] - 1s 33ms/step - loss: 0.0448 - accuracy: 0.9922\n",
            "Epoch 183/200\n",
            "18/18 [==============================] - 1s 33ms/step - loss: 0.0541 - accuracy: 0.9900\n",
            "Epoch 184/200\n",
            "18/18 [==============================] - 1s 33ms/step - loss: 0.0571 - accuracy: 0.9883\n",
            "Epoch 185/200\n",
            "18/18 [==============================] - 1s 32ms/step - loss: 0.0590 - accuracy: 0.9844\n",
            "Epoch 186/200\n",
            "18/18 [==============================] - 1s 32ms/step - loss: 0.0575 - accuracy: 0.9861\n",
            "Epoch 187/200\n",
            "18/18 [==============================] - 1s 33ms/step - loss: 0.0716 - accuracy: 0.9839\n",
            "Epoch 188/200\n",
            "18/18 [==============================] - 1s 33ms/step - loss: 0.0782 - accuracy: 0.9796\n",
            "Epoch 189/200\n",
            "18/18 [==============================] - 1s 33ms/step - loss: 0.0612 - accuracy: 0.9857\n",
            "Epoch 190/200\n",
            "18/18 [==============================] - 1s 32ms/step - loss: 0.0583 - accuracy: 0.9904\n",
            "Epoch 191/200\n",
            "18/18 [==============================] - 1s 33ms/step - loss: 0.0492 - accuracy: 0.9922\n",
            "Epoch 192/200\n",
            "18/18 [==============================] - 1s 32ms/step - loss: 0.0397 - accuracy: 0.9930\n",
            "Epoch 193/200\n",
            "18/18 [==============================] - 1s 32ms/step - loss: 0.0381 - accuracy: 0.9948\n",
            "Epoch 194/200\n",
            "18/18 [==============================] - 1s 33ms/step - loss: 0.0333 - accuracy: 0.9930\n",
            "Epoch 195/200\n",
            "18/18 [==============================] - 1s 32ms/step - loss: 0.0306 - accuracy: 0.9948\n",
            "Epoch 196/200\n",
            "18/18 [==============================] - 1s 32ms/step - loss: 0.0375 - accuracy: 0.9926\n",
            "Epoch 197/200\n",
            "18/18 [==============================] - 1s 32ms/step - loss: 0.0352 - accuracy: 0.9939\n",
            "Epoch 198/200\n",
            "18/18 [==============================] - 1s 33ms/step - loss: 0.0286 - accuracy: 0.9965\n",
            "Epoch 199/200\n",
            "18/18 [==============================] - 1s 33ms/step - loss: 0.0274 - accuracy: 0.9970\n",
            "Epoch 200/200\n",
            "18/18 [==============================] - 1s 32ms/step - loss: 0.0255 - accuracy: 0.9978\n"
          ]
        }
      ]
    },
    {
      "cell_type": "code",
      "source": [
        "results_virt(his1)"
      ],
      "metadata": {
        "colab": {
          "base_uri": "https://localhost:8080/",
          "height": 493
        },
        "outputId": "cceea956-1517-47ec-a069-e01c4348ae32",
        "id": "Gn3FsQ4MmQ26"
      },
      "execution_count": null,
      "outputs": [
        {
          "output_type": "display_data",
          "data": {
            "text/plain": [
              "<Figure size 1800x504 with 2 Axes>"
            ],
            "image/png": "[encoded data removed]"
          },
          "metadata": {
            "needs_background": "light"
          }
        }
      ]
    },
    {
      "cell_type": "markdown",
      "source": [
        "<h3><center>Generating Text"
      ],
      "metadata": {
        "id": "LBegIMebmQ26"
      }
    },
    {
      "cell_type": "code",
      "source": [
        "def generate_seq(model, tokenizer, seq_length, seed_text, n_words):\n",
        "    result = list()\n",
        "    in_text = seed_text\n",
        "    for _ in range(n_words):\n",
        "        encoded = tokenizer.texts_to_sequences([in_text])[0]\n",
        "        encoded = pad_sequences([encoded], maxlen=seq_length, truncating='pre')\n",
        "        # yhat = model.predict_classes(encoded, verbose=0)\n",
        "        yhat=model.predict(encoded) \n",
        "        yhat=np.argmax(yhat,axis=1)\n",
        "        out_word = ''\n",
        "        for word, index in tokenizer.word_index.items():\n",
        "            if index == yhat:\n",
        "                out_word = word\n",
        "                break\n",
        "        in_text += ' ' + out_word\n",
        "        result.append(out_word)\n",
        "    return ' '.join(result)"
      ],
      "metadata": {
        "trusted": true,
        "id": "hV9fOneumQ27"
      },
      "execution_count": null,
      "outputs": []
    },
    {
      "cell_type": "code",
      "source": [
        "seed_text = sequences[randint(0,len(sequences))]\n",
        "print(seed_text + '\\n')\n",
        "# generate new text\n",
        "generated = generate_seq(model, tokenizer, seq_length, seed_text, 50) \n",
        "print(generated)"
      ],
      "metadata": {
        "trusted": true,
        "colab": {
          "base_uri": "https://localhost:8080/"
        },
        "outputId": "ae295ba8-80fc-442f-8ef8-ead96d2e916e",
        "id": "oIAAUyrJmQ27"
      },
      "execution_count": null,
      "outputs": [
        {
          "output_type": "stream",
          "name": "stdout",
          "text": [
            "to them short and long quantities also in some cases he appeared to praise or censure the movement of the foot quite as much as the rhythm or perhaps a combination of the two for i am not certain what he meant these matters however as i was saying had better\n",
            "\n",
            "along as when when justice that i i remember that i our limbs cheat name when justice i i have speak us violate when our evil for when you replied you you rebuked you far comes far comes me comes refrain assuredly assuredly thinks of thus when you you violate\n"
          ]
        }
      ]
    },
    {
      "cell_type": "markdown",
      "source": [
        "# GRU #1"
      ],
      "metadata": {
        "id": "HN-zWeODqeIT"
      }
    },
    {
      "cell_type": "code",
      "source": [
        "def define_model(vocab_size, inputlength):\n",
        "    model = Sequential()\n",
        "    model.add(Embedding(vocab_size, 100, input_length=seq_length))\n",
        "    model.add(GRU(100, return_sequences=True,dropout=0.1))\n",
        "    model.add(GRU(100, return_sequences=True,dropout=0.1))\n",
        "    model.add(GRU(100))\n",
        "    model.add(Dense(100))\n",
        "    model.add(Dropout(0.2))\n",
        "    model.add(Dense(vocab_size, activation='softmax'))\n",
        "    \n",
        "    model.compile(loss='categorical_crossentropy', optimizer='adam', metrics=['accuracy'])\n",
        "    model.summary()\n",
        "    plot_model(model, to_file='model.png', show_shapes=True)\n",
        "    return model\n",
        "\n"
      ],
      "metadata": {
        "trusted": true,
        "id": "ZEarhsISqZdD"
      },
      "execution_count": null,
      "outputs": []
    },
    {
      "cell_type": "code",
      "source": [
        "model = define_model(vocab_size, seq_length)"
      ],
      "metadata": {
        "trusted": true,
        "colab": {
          "base_uri": "https://localhost:8080/"
        },
        "outputId": "f1f9a0ee-d883-4227-8bbe-25b63bdfacd1",
        "id": "7xvwNhSBqZdJ"
      },
      "execution_count": null,
      "outputs": [
        {
          "output_type": "stream",
          "name": "stdout",
          "text": [
            "Model: \"sequential_9\"\n",
            "_________________________________________________________________\n",
            " Layer (type)                Output Shape              Param #   \n",
            "=================================================================\n",
            " embedding_9 (Embedding)     (None, 50, 100)           734000    \n",
            "                                                                 \n",
            " gru (GRU)                   (None, 50, 100)           60600     \n",
            "                                                                 \n",
            " gru_1 (GRU)                 (None, 50, 100)           60600     \n",
            "                                                                 \n",
            " gru_2 (GRU)                 (None, 100)               60600     \n",
            "                                                                 \n",
            " dense_18 (Dense)            (None, 100)               10100     \n",
            "                                                                 \n",
            " dropout_9 (Dropout)         (None, 100)               0         \n",
            "                                                                 \n",
            " dense_19 (Dense)            (None, 7340)              741340    \n",
            "                                                                 \n",
            "=================================================================\n",
            "Total params: 1,667,240\n",
            "Trainable params: 1,667,240\n",
            "Non-trainable params: 0\n",
            "_________________________________________________________________\n"
          ]
        }
      ]
    },
    {
      "cell_type": "code",
      "source": [
        "his1=model.fit(X, y, batch_size=128, epochs=200)"
      ],
      "metadata": {
        "_kg_hide-output": true,
        "trusted": true,
        "colab": {
          "base_uri": "https://localhost:8080/"
        },
        "outputId": "ab7999b1-bbf4-4c29-e1ed-5659e3971bcc",
        "id": "FdkAh2iqqZdL"
      },
      "execution_count": null,
      "outputs": [
        {
          "output_type": "stream",
          "name": "stdout",
          "text": [
            "Epoch 1/200\n",
            "18/18 [==============================] - 7s 66ms/step - loss: 8.4174 - accuracy: 0.0530\n",
            "Epoch 2/200\n",
            "18/18 [==============================] - 1s 65ms/step - loss: 6.0859 - accuracy: 0.0495\n",
            "Epoch 3/200\n",
            "18/18 [==============================] - 1s 65ms/step - loss: 5.7701 - accuracy: 0.0547\n",
            "Epoch 4/200\n",
            "18/18 [==============================] - 1s 66ms/step - loss: 5.6738 - accuracy: 0.0569\n",
            "Epoch 5/200\n",
            "18/18 [==============================] - 1s 65ms/step - loss: 5.6383 - accuracy: 0.0500\n",
            "Epoch 6/200\n",
            "18/18 [==============================] - 1s 65ms/step - loss: 5.6291 - accuracy: 0.0573\n",
            "Epoch 7/200\n",
            "18/18 [==============================] - 1s 64ms/step - loss: 5.6280 - accuracy: 0.0452\n",
            "Epoch 8/200\n",
            "18/18 [==============================] - 1s 65ms/step - loss: 5.6262 - accuracy: 0.0565\n",
            "Epoch 9/200\n",
            "18/18 [==============================] - 1s 65ms/step - loss: 5.6203 - accuracy: 0.0582\n",
            "Epoch 10/200\n",
            "18/18 [==============================] - 1s 64ms/step - loss: 5.6148 - accuracy: 0.0552\n",
            "Epoch 11/200\n",
            "18/18 [==============================] - 1s 65ms/step - loss: 5.6116 - accuracy: 0.0599\n",
            "Epoch 12/200\n",
            "18/18 [==============================] - 1s 65ms/step - loss: 5.6140 - accuracy: 0.0456\n",
            "Epoch 13/200\n",
            "18/18 [==============================] - 1s 64ms/step - loss: 5.6101 - accuracy: 0.0578\n",
            "Epoch 14/200\n",
            "18/18 [==============================] - 1s 65ms/step - loss: 5.6079 - accuracy: 0.0565\n",
            "Epoch 15/200\n",
            "18/18 [==============================] - 1s 64ms/step - loss: 5.5959 - accuracy: 0.0526\n",
            "Epoch 16/200\n",
            "18/18 [==============================] - 1s 65ms/step - loss: 5.6092 - accuracy: 0.0582\n",
            "Epoch 17/200\n",
            "18/18 [==============================] - 1s 63ms/step - loss: 5.5954 - accuracy: 0.0582\n",
            "Epoch 18/200\n",
            "18/18 [==============================] - 1s 65ms/step - loss: 5.6008 - accuracy: 0.0539\n",
            "Epoch 19/200\n",
            "18/18 [==============================] - 1s 63ms/step - loss: 5.6041 - accuracy: 0.0556\n",
            "Epoch 20/200\n",
            "18/18 [==============================] - 1s 65ms/step - loss: 5.5991 - accuracy: 0.0604\n",
            "Epoch 21/200\n",
            "18/18 [==============================] - 1s 64ms/step - loss: 5.6000 - accuracy: 0.0504\n",
            "Epoch 22/200\n",
            "18/18 [==============================] - 1s 65ms/step - loss: 5.6013 - accuracy: 0.0582\n",
            "Epoch 23/200\n",
            "18/18 [==============================] - 1s 65ms/step - loss: 5.5956 - accuracy: 0.0582\n",
            "Epoch 24/200\n",
            "18/18 [==============================] - 1s 65ms/step - loss: 5.5914 - accuracy: 0.0569\n",
            "Epoch 25/200\n",
            "18/18 [==============================] - 1s 65ms/step - loss: 5.5913 - accuracy: 0.0491\n",
            "Epoch 26/200\n",
            "18/18 [==============================] - 1s 67ms/step - loss: 5.5934 - accuracy: 0.0560\n",
            "Epoch 27/200\n",
            "18/18 [==============================] - 1s 65ms/step - loss: 5.5914 - accuracy: 0.0582\n",
            "Epoch 28/200\n",
            "18/18 [==============================] - 1s 65ms/step - loss: 5.5921 - accuracy: 0.0578\n",
            "Epoch 29/200\n",
            "18/18 [==============================] - 1s 64ms/step - loss: 5.5930 - accuracy: 0.0582\n",
            "Epoch 30/200\n",
            "18/18 [==============================] - 1s 65ms/step - loss: 5.5880 - accuracy: 0.0565\n",
            "Epoch 31/200\n",
            "18/18 [==============================] - 1s 65ms/step - loss: 5.5889 - accuracy: 0.0586\n",
            "Epoch 32/200\n",
            "18/18 [==============================] - 1s 66ms/step - loss: 5.5903 - accuracy: 0.0591\n",
            "Epoch 33/200\n",
            "18/18 [==============================] - 1s 65ms/step - loss: 5.5828 - accuracy: 0.0599\n",
            "Epoch 34/200\n",
            "18/18 [==============================] - 1s 65ms/step - loss: 5.5937 - accuracy: 0.0582\n",
            "Epoch 35/200\n",
            "18/18 [==============================] - 1s 65ms/step - loss: 5.5841 - accuracy: 0.0573\n",
            "Epoch 36/200\n",
            "18/18 [==============================] - 1s 66ms/step - loss: 5.5518 - accuracy: 0.0578\n",
            "Epoch 37/200\n",
            "18/18 [==============================] - 1s 65ms/step - loss: 5.4824 - accuracy: 0.0586\n",
            "Epoch 38/200\n",
            "18/18 [==============================] - 1s 66ms/step - loss: 5.3833 - accuracy: 0.0578\n",
            "Epoch 39/200\n",
            "18/18 [==============================] - 1s 66ms/step - loss: 5.3386 - accuracy: 0.0617\n",
            "Epoch 40/200\n",
            "18/18 [==============================] - 1s 65ms/step - loss: 5.2758 - accuracy: 0.0634\n",
            "Epoch 41/200\n",
            "18/18 [==============================] - 1s 66ms/step - loss: 5.1939 - accuracy: 0.0586\n",
            "Epoch 42/200\n",
            "18/18 [==============================] - 1s 65ms/step - loss: 5.1232 - accuracy: 0.0586\n",
            "Epoch 43/200\n",
            "18/18 [==============================] - 1s 65ms/step - loss: 5.0644 - accuracy: 0.0691\n",
            "Epoch 44/200\n",
            "18/18 [==============================] - 1s 68ms/step - loss: 5.0104 - accuracy: 0.0647\n",
            "Epoch 45/200\n",
            "18/18 [==============================] - 1s 65ms/step - loss: 4.9366 - accuracy: 0.0695\n",
            "Epoch 46/200\n",
            "18/18 [==============================] - 1s 68ms/step - loss: 4.8784 - accuracy: 0.0678\n",
            "Epoch 47/200\n",
            "18/18 [==============================] - 1s 69ms/step - loss: 4.8054 - accuracy: 0.0639\n",
            "Epoch 48/200\n",
            "18/18 [==============================] - 1s 67ms/step - loss: 4.7370 - accuracy: 0.0695\n",
            "Epoch 49/200\n",
            "18/18 [==============================] - 1s 65ms/step - loss: 4.7016 - accuracy: 0.0725\n",
            "Epoch 50/200\n",
            "18/18 [==============================] - 1s 66ms/step - loss: 4.6572 - accuracy: 0.0791\n",
            "Epoch 51/200\n",
            "18/18 [==============================] - 1s 65ms/step - loss: 4.5746 - accuracy: 0.0847\n",
            "Epoch 52/200\n",
            "18/18 [==============================] - 1s 66ms/step - loss: 4.5208 - accuracy: 0.0851\n",
            "Epoch 53/200\n",
            "18/18 [==============================] - 1s 66ms/step - loss: 4.4629 - accuracy: 0.0912\n",
            "Epoch 54/200\n",
            "18/18 [==============================] - 1s 66ms/step - loss: 4.3831 - accuracy: 0.0904\n",
            "Epoch 55/200\n",
            "18/18 [==============================] - 1s 65ms/step - loss: 4.3265 - accuracy: 0.0860\n",
            "Epoch 56/200\n",
            "18/18 [==============================] - 1s 66ms/step - loss: 4.3126 - accuracy: 0.0930\n",
            "Epoch 57/200\n",
            "18/18 [==============================] - 1s 65ms/step - loss: 4.2369 - accuracy: 0.0934\n",
            "Epoch 58/200\n",
            "18/18 [==============================] - 1s 66ms/step - loss: 4.1701 - accuracy: 0.1047\n",
            "Epoch 59/200\n",
            "18/18 [==============================] - 1s 66ms/step - loss: 4.1181 - accuracy: 0.1008\n",
            "Epoch 60/200\n",
            "18/18 [==============================] - 1s 66ms/step - loss: 4.0744 - accuracy: 0.1095\n",
            "Epoch 61/200\n",
            "18/18 [==============================] - 1s 66ms/step - loss: 4.0316 - accuracy: 0.1008\n",
            "Epoch 62/200\n",
            "18/18 [==============================] - 1s 65ms/step - loss: 3.9679 - accuracy: 0.1077\n",
            "Epoch 63/200\n",
            "18/18 [==============================] - 1s 66ms/step - loss: 3.9560 - accuracy: 0.1017\n",
            "Epoch 64/200\n",
            "18/18 [==============================] - 1s 66ms/step - loss: 3.8575 - accuracy: 0.1190\n",
            "Epoch 65/200\n",
            "18/18 [==============================] - 1s 66ms/step - loss: 3.8243 - accuracy: 0.1234\n",
            "Epoch 66/200\n",
            "18/18 [==============================] - 1s 65ms/step - loss: 3.7918 - accuracy: 0.1260\n",
            "Epoch 67/200\n",
            "18/18 [==============================] - 1s 66ms/step - loss: 3.7732 - accuracy: 0.1264\n",
            "Epoch 68/200\n",
            "18/18 [==============================] - 1s 67ms/step - loss: 3.6777 - accuracy: 0.1416\n",
            "Epoch 69/200\n",
            "18/18 [==============================] - 1s 66ms/step - loss: 3.6176 - accuracy: 0.1399\n",
            "Epoch 70/200\n",
            "18/18 [==============================] - 1s 66ms/step - loss: 3.5428 - accuracy: 0.1685\n",
            "Epoch 71/200\n",
            "18/18 [==============================] - 1s 65ms/step - loss: 3.4833 - accuracy: 0.1694\n",
            "Epoch 72/200\n",
            "18/18 [==============================] - 1s 66ms/step - loss: 3.4489 - accuracy: 0.1655\n",
            "Epoch 73/200\n",
            "18/18 [==============================] - 1s 65ms/step - loss: 3.4165 - accuracy: 0.1707\n",
            "Epoch 74/200\n",
            "18/18 [==============================] - 1s 66ms/step - loss: 3.3731 - accuracy: 0.1825\n",
            "Epoch 75/200\n",
            "18/18 [==============================] - 1s 68ms/step - loss: 3.3507 - accuracy: 0.1794\n",
            "Epoch 76/200\n",
            "18/18 [==============================] - 1s 65ms/step - loss: 3.2658 - accuracy: 0.1764\n",
            "Epoch 77/200\n",
            "18/18 [==============================] - 1s 64ms/step - loss: 3.2126 - accuracy: 0.2007\n",
            "Epoch 78/200\n",
            "18/18 [==============================] - 1s 65ms/step - loss: 3.1698 - accuracy: 0.2011\n",
            "Epoch 79/200\n",
            "18/18 [==============================] - 1s 66ms/step - loss: 3.1132 - accuracy: 0.2137\n",
            "Epoch 80/200\n",
            "18/18 [==============================] - 1s 66ms/step - loss: 3.0348 - accuracy: 0.2189\n",
            "Epoch 81/200\n",
            "18/18 [==============================] - 1s 65ms/step - loss: 3.0018 - accuracy: 0.2194\n",
            "Epoch 82/200\n",
            "18/18 [==============================] - 1s 65ms/step - loss: 2.9548 - accuracy: 0.2268\n",
            "Epoch 83/200\n",
            "18/18 [==============================] - 1s 66ms/step - loss: 2.9266 - accuracy: 0.2268\n",
            "Epoch 84/200\n",
            "18/18 [==============================] - 1s 66ms/step - loss: 2.9046 - accuracy: 0.2307\n",
            "Epoch 85/200\n",
            "18/18 [==============================] - 1s 64ms/step - loss: 2.8393 - accuracy: 0.2424\n",
            "Epoch 86/200\n",
            "18/18 [==============================] - 1s 66ms/step - loss: 2.7831 - accuracy: 0.2363\n",
            "Epoch 87/200\n",
            "18/18 [==============================] - 1s 66ms/step - loss: 2.7365 - accuracy: 0.2567\n",
            "Epoch 88/200\n",
            "18/18 [==============================] - 1s 65ms/step - loss: 2.6998 - accuracy: 0.2624\n",
            "Epoch 89/200\n",
            "18/18 [==============================] - 1s 65ms/step - loss: 2.6214 - accuracy: 0.2850\n",
            "Epoch 90/200\n",
            "18/18 [==============================] - 1s 66ms/step - loss: 2.5857 - accuracy: 0.2889\n",
            "Epoch 91/200\n",
            "18/18 [==============================] - 1s 66ms/step - loss: 2.5357 - accuracy: 0.2845\n",
            "Epoch 92/200\n",
            "18/18 [==============================] - 1s 66ms/step - loss: 2.4678 - accuracy: 0.3097\n",
            "Epoch 93/200\n",
            "18/18 [==============================] - 1s 66ms/step - loss: 2.4166 - accuracy: 0.3141\n",
            "Epoch 94/200\n",
            "18/18 [==============================] - 1s 64ms/step - loss: 2.3779 - accuracy: 0.3288\n",
            "Epoch 95/200\n",
            "18/18 [==============================] - 1s 65ms/step - loss: 2.3579 - accuracy: 0.3319\n",
            "Epoch 96/200\n",
            "18/18 [==============================] - 1s 65ms/step - loss: 2.3582 - accuracy: 0.3228\n",
            "Epoch 97/200\n",
            "18/18 [==============================] - 1s 64ms/step - loss: 2.2914 - accuracy: 0.3480\n",
            "Epoch 98/200\n",
            "18/18 [==============================] - 1s 65ms/step - loss: 2.2379 - accuracy: 0.3593\n",
            "Epoch 99/200\n",
            "18/18 [==============================] - 1s 65ms/step - loss: 2.1797 - accuracy: 0.3801\n",
            "Epoch 100/200\n",
            "18/18 [==============================] - 1s 65ms/step - loss: 2.1667 - accuracy: 0.3866\n",
            "Epoch 101/200\n",
            "18/18 [==============================] - 1s 65ms/step - loss: 2.1005 - accuracy: 0.4040\n",
            "Epoch 102/200\n",
            "18/18 [==============================] - 1s 64ms/step - loss: 2.0752 - accuracy: 0.4149\n",
            "Epoch 103/200\n",
            "18/18 [==============================] - 1s 65ms/step - loss: 2.0243 - accuracy: 0.4140\n",
            "Epoch 104/200\n",
            "18/18 [==============================] - 1s 66ms/step - loss: 1.9728 - accuracy: 0.4353\n",
            "Epoch 105/200\n",
            "18/18 [==============================] - 1s 67ms/step - loss: 1.8871 - accuracy: 0.4579\n",
            "Epoch 106/200\n",
            "18/18 [==============================] - 1s 66ms/step - loss: 1.8473 - accuracy: 0.4687\n",
            "Epoch 107/200\n",
            "18/18 [==============================] - 1s 66ms/step - loss: 1.7995 - accuracy: 0.4774\n",
            "Epoch 108/200\n",
            "18/18 [==============================] - 1s 65ms/step - loss: 1.7396 - accuracy: 0.5070\n",
            "Epoch 109/200\n",
            "18/18 [==============================] - 1s 64ms/step - loss: 1.7181 - accuracy: 0.5091\n",
            "Epoch 110/200\n",
            "18/18 [==============================] - 1s 66ms/step - loss: 1.6702 - accuracy: 0.5204\n",
            "Epoch 111/200\n",
            "18/18 [==============================] - 1s 66ms/step - loss: 1.6643 - accuracy: 0.5213\n",
            "Epoch 112/200\n",
            "18/18 [==============================] - 1s 65ms/step - loss: 1.6322 - accuracy: 0.5265\n",
            "Epoch 113/200\n",
            "18/18 [==============================] - 1s 65ms/step - loss: 1.5942 - accuracy: 0.5504\n",
            "Epoch 114/200\n",
            "18/18 [==============================] - 1s 66ms/step - loss: 1.5227 - accuracy: 0.5586\n",
            "Epoch 115/200\n",
            "18/18 [==============================] - 1s 65ms/step - loss: 1.4612 - accuracy: 0.5734\n",
            "Epoch 116/200\n",
            "18/18 [==============================] - 1s 66ms/step - loss: 1.4180 - accuracy: 0.5891\n",
            "Epoch 117/200\n",
            "18/18 [==============================] - 1s 66ms/step - loss: 1.4212 - accuracy: 0.6021\n",
            "Epoch 118/200\n",
            "18/18 [==============================] - 1s 65ms/step - loss: 1.4622 - accuracy: 0.5817\n",
            "Epoch 119/200\n",
            "18/18 [==============================] - 1s 65ms/step - loss: 1.4168 - accuracy: 0.5943\n",
            "Epoch 120/200\n",
            "18/18 [==============================] - 1s 66ms/step - loss: 1.4003 - accuracy: 0.5934\n",
            "Epoch 121/200\n",
            "18/18 [==============================] - 1s 66ms/step - loss: 1.3190 - accuracy: 0.6242\n",
            "Epoch 122/200\n",
            "18/18 [==============================] - 1s 65ms/step - loss: 1.2313 - accuracy: 0.6555\n",
            "Epoch 123/200\n",
            "18/18 [==============================] - 1s 65ms/step - loss: 1.2038 - accuracy: 0.6560\n",
            "Epoch 124/200\n",
            "18/18 [==============================] - 1s 65ms/step - loss: 1.1504 - accuracy: 0.6798\n",
            "Epoch 125/200\n",
            "18/18 [==============================] - 1s 66ms/step - loss: 1.1140 - accuracy: 0.6720\n",
            "Epoch 126/200\n",
            "18/18 [==============================] - 1s 65ms/step - loss: 1.1151 - accuracy: 0.6842\n",
            "Epoch 127/200\n",
            "18/18 [==============================] - 1s 66ms/step - loss: 1.0615 - accuracy: 0.6990\n",
            "Epoch 128/200\n",
            "18/18 [==============================] - 1s 65ms/step - loss: 0.9949 - accuracy: 0.7137\n",
            "Epoch 129/200\n",
            "18/18 [==============================] - 1s 65ms/step - loss: 0.9869 - accuracy: 0.7224\n",
            "Epoch 130/200\n",
            "18/18 [==============================] - 1s 66ms/step - loss: 0.9742 - accuracy: 0.7289\n",
            "Epoch 131/200\n",
            "18/18 [==============================] - 1s 66ms/step - loss: 0.9679 - accuracy: 0.7242\n",
            "Epoch 132/200\n",
            "18/18 [==============================] - 1s 66ms/step - loss: 0.9113 - accuracy: 0.7420\n",
            "Epoch 133/200\n",
            "18/18 [==============================] - 1s 65ms/step - loss: 0.9049 - accuracy: 0.7550\n",
            "Epoch 134/200\n",
            "18/18 [==============================] - 1s 66ms/step - loss: 0.9055 - accuracy: 0.7472\n",
            "Epoch 135/200\n",
            "18/18 [==============================] - 1s 65ms/step - loss: 0.8846 - accuracy: 0.7515\n",
            "Epoch 136/200\n",
            "18/18 [==============================] - 1s 66ms/step - loss: 0.8259 - accuracy: 0.7672\n",
            "Epoch 137/200\n",
            "18/18 [==============================] - 1s 66ms/step - loss: 0.8091 - accuracy: 0.7789\n",
            "Epoch 138/200\n",
            "18/18 [==============================] - 1s 65ms/step - loss: 0.7753 - accuracy: 0.7928\n",
            "Epoch 139/200\n",
            "18/18 [==============================] - 1s 65ms/step - loss: 0.7387 - accuracy: 0.8093\n",
            "Epoch 140/200\n",
            "18/18 [==============================] - 1s 65ms/step - loss: 0.7691 - accuracy: 0.7893\n",
            "Epoch 141/200\n",
            "18/18 [==============================] - 1s 66ms/step - loss: 0.7348 - accuracy: 0.8067\n",
            "Epoch 142/200\n",
            "18/18 [==============================] - 1s 66ms/step - loss: 0.7636 - accuracy: 0.7880\n",
            "Epoch 143/200\n",
            "18/18 [==============================] - 1s 66ms/step - loss: 0.7101 - accuracy: 0.8028\n",
            "Epoch 144/200\n",
            "18/18 [==============================] - 1s 67ms/step - loss: 0.7188 - accuracy: 0.8102\n",
            "Epoch 145/200\n",
            "18/18 [==============================] - 1s 65ms/step - loss: 0.7562 - accuracy: 0.7906\n",
            "Epoch 146/200\n",
            "18/18 [==============================] - 1s 66ms/step - loss: 0.7116 - accuracy: 0.8058\n",
            "Epoch 147/200\n",
            "18/18 [==============================] - 1s 66ms/step - loss: 0.6396 - accuracy: 0.8206\n",
            "Epoch 148/200\n",
            "18/18 [==============================] - 1s 67ms/step - loss: 0.5805 - accuracy: 0.8397\n",
            "Epoch 149/200\n",
            "18/18 [==============================] - 1s 66ms/step - loss: 0.5920 - accuracy: 0.8380\n",
            "Epoch 150/200\n",
            "18/18 [==============================] - 1s 66ms/step - loss: 0.5429 - accuracy: 0.8514\n",
            "Epoch 151/200\n",
            "18/18 [==============================] - 1s 66ms/step - loss: 0.5405 - accuracy: 0.8558\n",
            "Epoch 152/200\n",
            "18/18 [==============================] - 1s 66ms/step - loss: 0.5488 - accuracy: 0.8527\n",
            "Epoch 153/200\n",
            "18/18 [==============================] - 1s 65ms/step - loss: 0.5224 - accuracy: 0.8597\n",
            "Epoch 154/200\n",
            "18/18 [==============================] - 1s 66ms/step - loss: 0.4934 - accuracy: 0.8666\n",
            "Epoch 155/200\n",
            "18/18 [==============================] - 1s 67ms/step - loss: 0.4696 - accuracy: 0.8814\n",
            "Epoch 156/200\n",
            "18/18 [==============================] - 1s 67ms/step - loss: 0.4678 - accuracy: 0.8840\n",
            "Epoch 157/200\n",
            "18/18 [==============================] - 1s 66ms/step - loss: 0.4596 - accuracy: 0.8823\n",
            "Epoch 158/200\n",
            "18/18 [==============================] - 1s 66ms/step - loss: 0.4813 - accuracy: 0.8727\n",
            "Epoch 159/200\n",
            "18/18 [==============================] - 1s 64ms/step - loss: 0.4683 - accuracy: 0.8762\n",
            "Epoch 160/200\n",
            "18/18 [==============================] - 1s 65ms/step - loss: 0.4706 - accuracy: 0.8758\n",
            "Epoch 161/200\n",
            "18/18 [==============================] - 1s 66ms/step - loss: 0.4271 - accuracy: 0.8905\n",
            "Epoch 162/200\n",
            "18/18 [==============================] - 1s 65ms/step - loss: 0.4294 - accuracy: 0.8836\n",
            "Epoch 163/200\n",
            "18/18 [==============================] - 1s 65ms/step - loss: 0.4896 - accuracy: 0.8606\n",
            "Epoch 164/200\n",
            "18/18 [==============================] - 1s 66ms/step - loss: 0.4171 - accuracy: 0.8927\n",
            "Epoch 165/200\n",
            "18/18 [==============================] - 1s 66ms/step - loss: 0.4137 - accuracy: 0.8997\n",
            "Epoch 166/200\n",
            "18/18 [==============================] - 1s 66ms/step - loss: 0.4081 - accuracy: 0.8992\n",
            "Epoch 167/200\n",
            "18/18 [==============================] - 1s 66ms/step - loss: 0.3888 - accuracy: 0.9014\n",
            "Epoch 168/200\n",
            "18/18 [==============================] - 1s 66ms/step - loss: 0.3885 - accuracy: 0.9010\n",
            "Epoch 169/200\n",
            "18/18 [==============================] - 1s 67ms/step - loss: 0.3810 - accuracy: 0.9010\n",
            "Epoch 170/200\n",
            "18/18 [==============================] - 1s 67ms/step - loss: 0.3917 - accuracy: 0.8997\n",
            "Epoch 171/200\n",
            "18/18 [==============================] - 1s 65ms/step - loss: 0.4229 - accuracy: 0.8840\n",
            "Epoch 172/200\n",
            "18/18 [==============================] - 1s 65ms/step - loss: 0.3888 - accuracy: 0.9010\n",
            "Epoch 173/200\n",
            "18/18 [==============================] - 1s 66ms/step - loss: 0.3866 - accuracy: 0.9005\n",
            "Epoch 174/200\n",
            "18/18 [==============================] - 1s 66ms/step - loss: 0.3853 - accuracy: 0.8970\n",
            "Epoch 175/200\n",
            "18/18 [==============================] - 1s 67ms/step - loss: 0.3696 - accuracy: 0.9010\n",
            "Epoch 176/200\n",
            "18/18 [==============================] - 1s 66ms/step - loss: 0.3522 - accuracy: 0.9105\n",
            "Epoch 177/200\n",
            "18/18 [==============================] - 1s 66ms/step - loss: 0.3161 - accuracy: 0.9209\n",
            "Epoch 178/200\n",
            "18/18 [==============================] - 1s 65ms/step - loss: 0.2939 - accuracy: 0.9253\n",
            "Epoch 179/200\n",
            "18/18 [==============================] - 1s 65ms/step - loss: 0.2810 - accuracy: 0.9318\n",
            "Epoch 180/200\n",
            "18/18 [==============================] - 1s 66ms/step - loss: 0.2859 - accuracy: 0.9248\n",
            "Epoch 181/200\n",
            "18/18 [==============================] - 1s 67ms/step - loss: 0.2709 - accuracy: 0.9288\n",
            "Epoch 182/200\n",
            "18/18 [==============================] - 1s 65ms/step - loss: 0.2533 - accuracy: 0.9435\n",
            "Epoch 183/200\n",
            "18/18 [==============================] - 1s 67ms/step - loss: 0.2439 - accuracy: 0.9374\n",
            "Epoch 184/200\n",
            "18/18 [==============================] - 1s 66ms/step - loss: 0.2376 - accuracy: 0.9396\n",
            "Epoch 185/200\n",
            "18/18 [==============================] - 1s 67ms/step - loss: 0.2493 - accuracy: 0.9405\n",
            "Epoch 186/200\n",
            "18/18 [==============================] - 1s 67ms/step - loss: 0.2222 - accuracy: 0.9466\n",
            "Epoch 187/200\n",
            "18/18 [==============================] - 1s 68ms/step - loss: 0.2208 - accuracy: 0.9474\n",
            "Epoch 188/200\n",
            "18/18 [==============================] - 1s 67ms/step - loss: 0.2100 - accuracy: 0.9544\n",
            "Epoch 189/200\n",
            "18/18 [==============================] - 1s 67ms/step - loss: 0.2132 - accuracy: 0.9492\n",
            "Epoch 190/200\n",
            "18/18 [==============================] - 1s 66ms/step - loss: 0.1928 - accuracy: 0.9574\n",
            "Epoch 191/200\n",
            "18/18 [==============================] - 1s 66ms/step - loss: 0.1921 - accuracy: 0.9544\n",
            "Epoch 192/200\n",
            "18/18 [==============================] - 1s 66ms/step - loss: 0.1800 - accuracy: 0.9583\n",
            "Epoch 193/200\n",
            "18/18 [==============================] - 1s 66ms/step - loss: 0.1715 - accuracy: 0.9613\n",
            "Epoch 194/200\n",
            "18/18 [==============================] - 1s 67ms/step - loss: 0.1561 - accuracy: 0.9679\n",
            "Epoch 195/200\n",
            "18/18 [==============================] - 1s 65ms/step - loss: 0.1577 - accuracy: 0.9648\n",
            "Epoch 196/200\n",
            "18/18 [==============================] - 1s 66ms/step - loss: 0.2017 - accuracy: 0.9509\n",
            "Epoch 197/200\n",
            "18/18 [==============================] - 1s 67ms/step - loss: 0.2365 - accuracy: 0.9392\n",
            "Epoch 198/200\n",
            "18/18 [==============================] - 1s 67ms/step - loss: 0.2535 - accuracy: 0.9366\n",
            "Epoch 199/200\n",
            "18/18 [==============================] - 1s 65ms/step - loss: 0.2394 - accuracy: 0.9448\n",
            "Epoch 200/200\n",
            "18/18 [==============================] - 1s 65ms/step - loss: 0.2561 - accuracy: 0.9401\n"
          ]
        }
      ]
    },
    {
      "cell_type": "code",
      "source": [
        "results_virt(his1)"
      ],
      "metadata": {
        "colab": {
          "base_uri": "https://localhost:8080/",
          "height": 493
        },
        "id": "9gUrF86cs6IK",
        "outputId": "9607c7ab-0d13-4fad-dd40-0d33b4a8bb7f"
      },
      "execution_count": null,
      "outputs": [
        {
          "output_type": "display_data",
          "data": {
            "text/plain": [
              "<Figure size 1800x504 with 2 Axes>"
            ],
            "image/png": "[encoded data removed]"
          },
          "metadata": {
            "needs_background": "light"
          }
        }
      ]
    },
    {
      "cell_type": "markdown",
      "source": [
        "<h3><center>Generating Text"
      ],
      "metadata": {
        "id": "XeIqcD2-qZdN"
      }
    },
    {
      "cell_type": "code",
      "source": [
        "def generate_seq(model, tokenizer, seq_length, seed_text, n_words):\n",
        "    result = list()\n",
        "    in_text = seed_text\n",
        "    for _ in range(n_words):\n",
        "        encoded = tokenizer.texts_to_sequences([in_text])[0]\n",
        "        encoded = pad_sequences([encoded], maxlen=seq_length, truncating='pre')\n",
        "        # yhat = model.predict_classes(encoded, verbose=0)\n",
        "        yhat=model.predict(encoded) \n",
        "        yhat=np.argmax(yhat,axis=1)\n",
        "        out_word = ''\n",
        "        for word, index in tokenizer.word_index.items():\n",
        "            if index == yhat:\n",
        "                out_word = word\n",
        "                break\n",
        "        in_text += ' ' + out_word\n",
        "        result.append(out_word)\n",
        "    return ' '.join(result)"
      ],
      "metadata": {
        "trusted": true,
        "id": "ZsJMDkczqZdO"
      },
      "execution_count": null,
      "outputs": []
    },
    {
      "cell_type": "code",
      "source": [
        "seed_text = sequences[randint(0,len(sequences))]\n",
        "print(seed_text + '\\n')\n",
        "# generate new text\n",
        "generated = generate_seq(model, tokenizer, seq_length, seed_text, 50) \n",
        "print(generated)"
      ],
      "metadata": {
        "trusted": true,
        "colab": {
          "base_uri": "https://localhost:8080/"
        },
        "outputId": "af4c5206-5f18-4f48-e46f-391661891936",
        "id": "uoY7Qz9ZqZdP"
      },
      "execution_count": null,
      "outputs": [
        {
          "output_type": "stream",
          "name": "stdout",
          "text": [
            "melody to say what these rhythms are will be your must teach me them as you have already taught me the harmonies but indeed he replied i cannot tell you i only know that there are some three principles of rhythm out of which metrical systems are framed just as in\n",
            "\n",
            "is classes is is is other we other other if if unlike as others case case holds holds other an an an an an an that that he that the that and he he is that man we to to the the the the the the of and the the\n"
          ]
        }
      ]
    },
    {
      "cell_type": "markdown",
      "source": [
        "# GRU #2"
      ],
      "metadata": {
        "id": "UX3Pkh97tM6w"
      }
    },
    {
      "cell_type": "code",
      "source": [
        "def define_model(vocab_size, inputlength):\n",
        "    model = Sequential()\n",
        "    model.add(Embedding(vocab_size, 100, input_length=seq_length))\n",
        "    model.add(GRU(100,dropout=0.3))\n",
        "    # model.add(GRU(100, return_sequences=True,dropout=0.1))\n",
        "    # model.add(GRU(100))\n",
        "    model.add(Dense(100))\n",
        "    model.add(Dropout(0.2))\n",
        "    model.add(Dense(vocab_size, activation='softmax'))\n",
        "    \n",
        "    model.compile(loss='categorical_crossentropy', optimizer='adam', metrics=['accuracy'])\n",
        "    model.summary()\n",
        "    plot_model(model, to_file='model.png', show_shapes=True)\n",
        "    return model\n",
        "\n"
      ],
      "metadata": {
        "trusted": true,
        "id": "AT74KRIStM6x"
      },
      "execution_count": null,
      "outputs": []
    },
    {
      "cell_type": "code",
      "source": [
        "model = define_model(vocab_size, seq_length)"
      ],
      "metadata": {
        "trusted": true,
        "colab": {
          "base_uri": "https://localhost:8080/"
        },
        "outputId": "67c9a1bd-5501-4d73-c13e-759482dfaa6a",
        "id": "_Wdf9uaCtM6x"
      },
      "execution_count": null,
      "outputs": [
        {
          "output_type": "stream",
          "name": "stdout",
          "text": [
            "Model: \"sequential_11\"\n",
            "_________________________________________________________________\n",
            " Layer (type)                Output Shape              Param #   \n",
            "=================================================================\n",
            " embedding_11 (Embedding)    (None, 50, 100)           734000    \n",
            "                                                                 \n",
            " gru_4 (GRU)                 (None, 100)               60600     \n",
            "                                                                 \n",
            " dense_22 (Dense)            (None, 100)               10100     \n",
            "                                                                 \n",
            " dropout_11 (Dropout)        (None, 100)               0         \n",
            "                                                                 \n",
            " dense_23 (Dense)            (None, 7340)              741340    \n",
            "                                                                 \n",
            "=================================================================\n",
            "Total params: 1,546,040\n",
            "Trainable params: 1,546,040\n",
            "Non-trainable params: 0\n",
            "_________________________________________________________________\n"
          ]
        }
      ]
    },
    {
      "cell_type": "code",
      "source": [
        "his1=model.fit(X, y, batch_size=128, epochs=125)"
      ],
      "metadata": {
        "_kg_hide-output": true,
        "trusted": true,
        "colab": {
          "base_uri": "https://localhost:8080/"
        },
        "outputId": "c2c0eb9d-e8f8-48ea-916a-f127b7120989",
        "id": "Fgav63Y2tM6x"
      },
      "execution_count": null,
      "outputs": [
        {
          "output_type": "stream",
          "name": "stdout",
          "text": [
            "Epoch 1/125\n",
            "18/18 [==============================] - 3s 31ms/step - loss: 8.8580 - accuracy: 0.0443\n",
            "Epoch 2/125\n",
            "18/18 [==============================] - 1s 30ms/step - loss: 6.8437 - accuracy: 0.0578\n",
            "Epoch 3/125\n",
            "18/18 [==============================] - 1s 30ms/step - loss: 5.8220 - accuracy: 0.0456\n",
            "Epoch 4/125\n",
            "18/18 [==============================] - 1s 30ms/step - loss: 5.6760 - accuracy: 0.0534\n",
            "Epoch 5/125\n",
            "18/18 [==============================] - 1s 30ms/step - loss: 5.6226 - accuracy: 0.0573\n",
            "Epoch 6/125\n",
            "18/18 [==============================] - 1s 30ms/step - loss: 5.6070 - accuracy: 0.0582\n",
            "Epoch 7/125\n",
            "18/18 [==============================] - 1s 30ms/step - loss: 5.6032 - accuracy: 0.0595\n",
            "Epoch 8/125\n",
            "18/18 [==============================] - 1s 30ms/step - loss: 5.5987 - accuracy: 0.0547\n",
            "Epoch 9/125\n",
            "18/18 [==============================] - 1s 29ms/step - loss: 5.5795 - accuracy: 0.0569\n",
            "Epoch 10/125\n",
            "18/18 [==============================] - 1s 30ms/step - loss: 5.5350 - accuracy: 0.0547\n",
            "Epoch 11/125\n",
            "18/18 [==============================] - 1s 30ms/step - loss: 5.4673 - accuracy: 0.0573\n",
            "Epoch 12/125\n",
            "18/18 [==============================] - 1s 30ms/step - loss: 5.3820 - accuracy: 0.0591\n",
            "Epoch 13/125\n",
            "18/18 [==============================] - 1s 30ms/step - loss: 5.3161 - accuracy: 0.0591\n",
            "Epoch 14/125\n",
            "18/18 [==============================] - 1s 29ms/step - loss: 5.2511 - accuracy: 0.0656\n",
            "Epoch 15/125\n",
            "18/18 [==============================] - 1s 30ms/step - loss: 5.1753 - accuracy: 0.0756\n",
            "Epoch 16/125\n",
            "18/18 [==============================] - 1s 30ms/step - loss: 5.0925 - accuracy: 0.0773\n",
            "Epoch 17/125\n",
            "18/18 [==============================] - 1s 30ms/step - loss: 4.9981 - accuracy: 0.0825\n",
            "Epoch 18/125\n",
            "18/18 [==============================] - 1s 30ms/step - loss: 4.9015 - accuracy: 0.0877\n",
            "Epoch 19/125\n",
            "18/18 [==============================] - 1s 30ms/step - loss: 4.7914 - accuracy: 0.0964\n",
            "Epoch 20/125\n",
            "18/18 [==============================] - 1s 30ms/step - loss: 4.6986 - accuracy: 0.1021\n",
            "Epoch 21/125\n",
            "18/18 [==============================] - 1s 30ms/step - loss: 4.6119 - accuracy: 0.1073\n",
            "Epoch 22/125\n",
            "18/18 [==============================] - 1s 30ms/step - loss: 4.5164 - accuracy: 0.1177\n",
            "Epoch 23/125\n",
            "18/18 [==============================] - 1s 30ms/step - loss: 4.4066 - accuracy: 0.1242\n",
            "Epoch 24/125\n",
            "18/18 [==============================] - 1s 30ms/step - loss: 4.2881 - accuracy: 0.1351\n",
            "Epoch 25/125\n",
            "18/18 [==============================] - 1s 30ms/step - loss: 4.1619 - accuracy: 0.1529\n",
            "Epoch 26/125\n",
            "18/18 [==============================] - 1s 30ms/step - loss: 4.0280 - accuracy: 0.1677\n",
            "Epoch 27/125\n",
            "18/18 [==============================] - 1s 30ms/step - loss: 3.9121 - accuracy: 0.1712\n",
            "Epoch 28/125\n",
            "18/18 [==============================] - 1s 30ms/step - loss: 3.7927 - accuracy: 0.1881\n",
            "Epoch 29/125\n",
            "18/18 [==============================] - 1s 29ms/step - loss: 3.6861 - accuracy: 0.2050\n",
            "Epoch 30/125\n",
            "18/18 [==============================] - 1s 30ms/step - loss: 3.5725 - accuracy: 0.2198\n",
            "Epoch 31/125\n",
            "18/18 [==============================] - 1s 30ms/step - loss: 3.4539 - accuracy: 0.2341\n",
            "Epoch 32/125\n",
            "18/18 [==============================] - 1s 29ms/step - loss: 3.3292 - accuracy: 0.2489\n",
            "Epoch 33/125\n",
            "18/18 [==============================] - 1s 30ms/step - loss: 3.2198 - accuracy: 0.2698\n",
            "Epoch 34/125\n",
            "18/18 [==============================] - 1s 30ms/step - loss: 3.0907 - accuracy: 0.2915\n",
            "Epoch 35/125\n",
            "18/18 [==============================] - 1s 30ms/step - loss: 2.9915 - accuracy: 0.3032\n",
            "Epoch 36/125\n",
            "18/18 [==============================] - 1s 30ms/step - loss: 2.8942 - accuracy: 0.3141\n",
            "Epoch 37/125\n",
            "18/18 [==============================] - 1s 30ms/step - loss: 2.8114 - accuracy: 0.3189\n",
            "Epoch 38/125\n",
            "18/18 [==============================] - 1s 30ms/step - loss: 2.6971 - accuracy: 0.3449\n",
            "Epoch 39/125\n",
            "18/18 [==============================] - 1s 30ms/step - loss: 2.5991 - accuracy: 0.3649\n",
            "Epoch 40/125\n",
            "18/18 [==============================] - 1s 30ms/step - loss: 2.4907 - accuracy: 0.3779\n",
            "Epoch 41/125\n",
            "18/18 [==============================] - 1s 30ms/step - loss: 2.3879 - accuracy: 0.4040\n",
            "Epoch 42/125\n",
            "18/18 [==============================] - 1s 30ms/step - loss: 2.2771 - accuracy: 0.4383\n",
            "Epoch 43/125\n",
            "18/18 [==============================] - 1s 30ms/step - loss: 2.1791 - accuracy: 0.4474\n",
            "Epoch 44/125\n",
            "18/18 [==============================] - 1s 30ms/step - loss: 2.0912 - accuracy: 0.4692\n",
            "Epoch 45/125\n",
            "18/18 [==============================] - 1s 30ms/step - loss: 2.0362 - accuracy: 0.4818\n",
            "Epoch 46/125\n",
            "18/18 [==============================] - 1s 30ms/step - loss: 1.9438 - accuracy: 0.4857\n",
            "Epoch 47/125\n",
            "18/18 [==============================] - 1s 30ms/step - loss: 1.8438 - accuracy: 0.5326\n",
            "Epoch 48/125\n",
            "18/18 [==============================] - 1s 30ms/step - loss: 1.7518 - accuracy: 0.5569\n",
            "Epoch 49/125\n",
            "18/18 [==============================] - 1s 31ms/step - loss: 1.6820 - accuracy: 0.5678\n",
            "Epoch 50/125\n",
            "18/18 [==============================] - 1s 30ms/step - loss: 1.5979 - accuracy: 0.5864\n",
            "Epoch 51/125\n",
            "18/18 [==============================] - 1s 30ms/step - loss: 1.5131 - accuracy: 0.6156\n",
            "Epoch 52/125\n",
            "18/18 [==============================] - 1s 30ms/step - loss: 1.4293 - accuracy: 0.6399\n",
            "Epoch 53/125\n",
            "18/18 [==============================] - 1s 30ms/step - loss: 1.3661 - accuracy: 0.6516\n",
            "Epoch 54/125\n",
            "18/18 [==============================] - 1s 30ms/step - loss: 1.2724 - accuracy: 0.6703\n",
            "Epoch 55/125\n",
            "18/18 [==============================] - 1s 29ms/step - loss: 1.2197 - accuracy: 0.6898\n",
            "Epoch 56/125\n",
            "18/18 [==============================] - 1s 30ms/step - loss: 1.1425 - accuracy: 0.6981\n",
            "Epoch 57/125\n",
            "18/18 [==============================] - 1s 30ms/step - loss: 1.1102 - accuracy: 0.7207\n",
            "Epoch 58/125\n",
            "18/18 [==============================] - 1s 30ms/step - loss: 1.0331 - accuracy: 0.7381\n",
            "Epoch 59/125\n",
            "18/18 [==============================] - 1s 29ms/step - loss: 0.9825 - accuracy: 0.7507\n",
            "Epoch 60/125\n",
            "18/18 [==============================] - 1s 30ms/step - loss: 0.9444 - accuracy: 0.7641\n",
            "Epoch 61/125\n",
            "18/18 [==============================] - 1s 30ms/step - loss: 0.8900 - accuracy: 0.7706\n",
            "Epoch 62/125\n",
            "18/18 [==============================] - 1s 30ms/step - loss: 0.8411 - accuracy: 0.7915\n",
            "Epoch 63/125\n",
            "18/18 [==============================] - 1s 30ms/step - loss: 0.7971 - accuracy: 0.7932\n",
            "Epoch 64/125\n",
            "18/18 [==============================] - 1s 30ms/step - loss: 0.7739 - accuracy: 0.7928\n",
            "Epoch 65/125\n",
            "18/18 [==============================] - 1s 30ms/step - loss: 0.7008 - accuracy: 0.8341\n",
            "Epoch 66/125\n",
            "18/18 [==============================] - 1s 30ms/step - loss: 0.6745 - accuracy: 0.8288\n",
            "Epoch 67/125\n",
            "18/18 [==============================] - 1s 30ms/step - loss: 0.6303 - accuracy: 0.8388\n",
            "Epoch 68/125\n",
            "18/18 [==============================] - 1s 30ms/step - loss: 0.5918 - accuracy: 0.8614\n",
            "Epoch 69/125\n",
            "18/18 [==============================] - 1s 30ms/step - loss: 0.5608 - accuracy: 0.8566\n",
            "Epoch 70/125\n",
            "18/18 [==============================] - 1s 30ms/step - loss: 0.5385 - accuracy: 0.8779\n",
            "Epoch 71/125\n",
            "18/18 [==============================] - 1s 31ms/step - loss: 0.5288 - accuracy: 0.8775\n",
            "Epoch 72/125\n",
            "18/18 [==============================] - 1s 30ms/step - loss: 0.4884 - accuracy: 0.8840\n",
            "Epoch 73/125\n",
            "18/18 [==============================] - 1s 30ms/step - loss: 0.4517 - accuracy: 0.8988\n",
            "Epoch 74/125\n",
            "18/18 [==============================] - 1s 30ms/step - loss: 0.4179 - accuracy: 0.9036\n",
            "Epoch 75/125\n",
            "18/18 [==============================] - 1s 30ms/step - loss: 0.4098 - accuracy: 0.9075\n",
            "Epoch 76/125\n",
            "18/18 [==============================] - 1s 29ms/step - loss: 0.3961 - accuracy: 0.9092\n",
            "Epoch 77/125\n",
            "18/18 [==============================] - 1s 31ms/step - loss: 0.3490 - accuracy: 0.9288\n",
            "Epoch 78/125\n",
            "18/18 [==============================] - 1s 30ms/step - loss: 0.3392 - accuracy: 0.9235\n",
            "Epoch 79/125\n",
            "18/18 [==============================] - 1s 31ms/step - loss: 0.3231 - accuracy: 0.9292\n",
            "Epoch 80/125\n",
            "18/18 [==============================] - 1s 31ms/step - loss: 0.3125 - accuracy: 0.9366\n",
            "Epoch 81/125\n",
            "18/18 [==============================] - 1s 30ms/step - loss: 0.3221 - accuracy: 0.9227\n",
            "Epoch 82/125\n",
            "18/18 [==============================] - 1s 31ms/step - loss: 0.3190 - accuracy: 0.9214\n",
            "Epoch 83/125\n",
            "18/18 [==============================] - 1s 30ms/step - loss: 0.2762 - accuracy: 0.9344\n",
            "Epoch 84/125\n",
            "18/18 [==============================] - 1s 30ms/step - loss: 0.2628 - accuracy: 0.9444\n",
            "Epoch 85/125\n",
            "18/18 [==============================] - 1s 30ms/step - loss: 0.2442 - accuracy: 0.9500\n",
            "Epoch 86/125\n",
            "18/18 [==============================] - 1s 30ms/step - loss: 0.2567 - accuracy: 0.9457\n",
            "Epoch 87/125\n",
            "18/18 [==============================] - 1s 31ms/step - loss: 0.2315 - accuracy: 0.9505\n",
            "Epoch 88/125\n",
            "18/18 [==============================] - 1s 30ms/step - loss: 0.2202 - accuracy: 0.9540\n",
            "Epoch 89/125\n",
            "18/18 [==============================] - 1s 30ms/step - loss: 0.2100 - accuracy: 0.9540\n",
            "Epoch 90/125\n",
            "18/18 [==============================] - 1s 31ms/step - loss: 0.1891 - accuracy: 0.9670\n",
            "Epoch 91/125\n",
            "18/18 [==============================] - 1s 30ms/step - loss: 0.1915 - accuracy: 0.9592\n",
            "Epoch 92/125\n",
            "18/18 [==============================] - 1s 30ms/step - loss: 0.1826 - accuracy: 0.9592\n",
            "Epoch 93/125\n",
            "18/18 [==============================] - 1s 30ms/step - loss: 0.1794 - accuracy: 0.9631\n",
            "Epoch 94/125\n",
            "18/18 [==============================] - 1s 30ms/step - loss: 0.1671 - accuracy: 0.9687\n",
            "Epoch 95/125\n",
            "18/18 [==============================] - 1s 30ms/step - loss: 0.1691 - accuracy: 0.9648\n",
            "Epoch 96/125\n",
            "18/18 [==============================] - 1s 31ms/step - loss: 0.1506 - accuracy: 0.9692\n",
            "Epoch 97/125\n",
            "18/18 [==============================] - 1s 31ms/step - loss: 0.1570 - accuracy: 0.9666\n",
            "Epoch 98/125\n",
            "18/18 [==============================] - 1s 31ms/step - loss: 0.1494 - accuracy: 0.9726\n",
            "Epoch 99/125\n",
            "18/18 [==============================] - 1s 30ms/step - loss: 0.1470 - accuracy: 0.9709\n",
            "Epoch 100/125\n",
            "18/18 [==============================] - 1s 31ms/step - loss: 0.1433 - accuracy: 0.9700\n",
            "Epoch 101/125\n",
            "18/18 [==============================] - 1s 30ms/step - loss: 0.1353 - accuracy: 0.9718\n",
            "Epoch 102/125\n",
            "18/18 [==============================] - 1s 30ms/step - loss: 0.1262 - accuracy: 0.9796\n",
            "Epoch 103/125\n",
            "18/18 [==============================] - 1s 30ms/step - loss: 0.1125 - accuracy: 0.9809\n",
            "Epoch 104/125\n",
            "18/18 [==============================] - 1s 30ms/step - loss: 0.1169 - accuracy: 0.9765\n",
            "Epoch 105/125\n",
            "18/18 [==============================] - 1s 30ms/step - loss: 0.1236 - accuracy: 0.9783\n",
            "Epoch 106/125\n",
            "18/18 [==============================] - 1s 30ms/step - loss: 0.1119 - accuracy: 0.9778\n",
            "Epoch 107/125\n",
            "18/18 [==============================] - 1s 30ms/step - loss: 0.1110 - accuracy: 0.9809\n",
            "Epoch 108/125\n",
            "18/18 [==============================] - 1s 31ms/step - loss: 0.1026 - accuracy: 0.9796\n",
            "Epoch 109/125\n",
            "18/18 [==============================] - 1s 30ms/step - loss: 0.1064 - accuracy: 0.9800\n",
            "Epoch 110/125\n",
            "18/18 [==============================] - 1s 31ms/step - loss: 0.1001 - accuracy: 0.9809\n",
            "Epoch 111/125\n",
            "18/18 [==============================] - 1s 30ms/step - loss: 0.0967 - accuracy: 0.9809\n",
            "Epoch 112/125\n",
            "18/18 [==============================] - 1s 31ms/step - loss: 0.0908 - accuracy: 0.9844\n",
            "Epoch 113/125\n",
            "18/18 [==============================] - 1s 30ms/step - loss: 0.0932 - accuracy: 0.9822\n",
            "Epoch 114/125\n",
            "18/18 [==============================] - 1s 30ms/step - loss: 0.0985 - accuracy: 0.9813\n",
            "Epoch 115/125\n",
            "18/18 [==============================] - 1s 30ms/step - loss: 0.0982 - accuracy: 0.9778\n",
            "Epoch 116/125\n",
            "18/18 [==============================] - 1s 30ms/step - loss: 0.0815 - accuracy: 0.9861\n",
            "Epoch 117/125\n",
            "18/18 [==============================] - 1s 30ms/step - loss: 0.0948 - accuracy: 0.9805\n",
            "Epoch 118/125\n",
            "18/18 [==============================] - 1s 30ms/step - loss: 0.0768 - accuracy: 0.9865\n",
            "Epoch 119/125\n",
            "18/18 [==============================] - 1s 30ms/step - loss: 0.0848 - accuracy: 0.9839\n",
            "Epoch 120/125\n",
            "18/18 [==============================] - 1s 30ms/step - loss: 0.0808 - accuracy: 0.9839\n",
            "Epoch 121/125\n",
            "18/18 [==============================] - 1s 30ms/step - loss: 0.0723 - accuracy: 0.9865\n",
            "Epoch 122/125\n",
            "18/18 [==============================] - 1s 30ms/step - loss: 0.0726 - accuracy: 0.9887\n",
            "Epoch 123/125\n",
            "18/18 [==============================] - 1s 30ms/step - loss: 0.0722 - accuracy: 0.9891\n",
            "Epoch 124/125\n",
            "18/18 [==============================] - 1s 31ms/step - loss: 0.0605 - accuracy: 0.9922\n",
            "Epoch 125/125\n",
            "18/18 [==============================] - 1s 30ms/step - loss: 0.0677 - accuracy: 0.9861\n"
          ]
        }
      ]
    },
    {
      "cell_type": "code",
      "source": [
        "results_virt(his1)"
      ],
      "metadata": {
        "colab": {
          "base_uri": "https://localhost:8080/",
          "height": 493
        },
        "outputId": "0bc9fd2c-043c-407b-d942-69f1a4386fca",
        "id": "Fahew4oXtM6y"
      },
      "execution_count": null,
      "outputs": [
        {
          "output_type": "display_data",
          "data": {
            "text/plain": [
              "<Figure size 1800x504 with 2 Axes>"
            ],
            "image/png": "[encoded data removed]"
          },
          "metadata": {
            "needs_background": "light"
          }
        }
      ]
    },
    {
      "cell_type": "markdown",
      "source": [
        "<h3><center>Generating Text"
      ],
      "metadata": {
        "id": "oGnvB19FtM6y"
      }
    },
    {
      "cell_type": "code",
      "source": [
        "def generate_seq(model, tokenizer, seq_length, seed_text, n_words):\n",
        "    result = list()\n",
        "    in_text = seed_text\n",
        "    for _ in range(n_words):\n",
        "        encoded = tokenizer.texts_to_sequences([in_text])[0]\n",
        "        encoded = pad_sequences([encoded], maxlen=seq_length, truncating='pre')\n",
        "        # yhat = model.predict_classes(encoded, verbose=0)\n",
        "        yhat=model.predict(encoded) \n",
        "        yhat=np.argmax(yhat,axis=1)\n",
        "        out_word = ''\n",
        "        for word, index in tokenizer.word_index.items():\n",
        "            if index == yhat:\n",
        "                out_word = word\n",
        "                break\n",
        "        in_text += ' ' + out_word\n",
        "        result.append(out_word)\n",
        "    return ' '.join(result)"
      ],
      "metadata": {
        "trusted": true,
        "id": "UM4dvTWwtM6y"
      },
      "execution_count": null,
      "outputs": []
    },
    {
      "cell_type": "code",
      "source": [
        "seed_text = sequences[randint(0,len(sequences))]\n",
        "print(seed_text + '\\n')\n",
        "# generate new text\n",
        "generated = generate_seq(model, tokenizer, seq_length, seed_text, 50) \n",
        "print(generated)"
      ],
      "metadata": {
        "trusted": true,
        "colab": {
          "base_uri": "https://localhost:8080/"
        },
        "outputId": "6fa1d5e7-63cc-490f-b649-b0c2a492cc27",
        "id": "Px4S5NIztM6y"
      },
      "execution_count": null,
      "outputs": [
        {
          "output_type": "stream",
          "name": "stdout",
          "text": [
            "this is right every other is wrong and the evil is one which affects not only the ordering of the state but also the regulation of the individual soul and is exhibited in four forms what are they he said i was proceeding to tell the order in which the four\n",
            "\n",
            "first of lovers mightiest he said and he said and to the other propose for to this is divine then they have an evil only after contracts when my speaking they say called of what i ought appear put they have been converted prisoner waters waters sprung incapable that we\n"
          ]
        }
      ]
    },
    {
      "cell_type": "markdown",
      "source": [
        "# SimpleRNN model #1"
      ],
      "metadata": {
        "id": "2e1iR5j2qvgy"
      }
    },
    {
      "cell_type": "code",
      "source": [
        "def define_model(vocab_size, inputlength):\n",
        "    model = Sequential()\n",
        "    \n",
        "    model.add(Embedding(vocab_size, 100, input_length=seq_length))\n",
        "    model.add(SimpleRNN(100, return_sequences=True,dropout=0.1))\n",
        "    model.add(SimpleRNN(100, return_sequences=True,dropout=0.1))\n",
        "    model.add(SimpleRNN(100))\n",
        "    model.add(Dense(100))\n",
        "    model.add(Dropout(0.2))\n",
        "    model.add(Dense(vocab_size, activation='softmax'))\n",
        "    \n",
        "    model.compile(loss='categorical_crossentropy', optimizer='adam', metrics=['accuracy'])\n",
        "    model.summary()\n",
        "    plot_model(model, to_file='model.png', show_shapes=True)\n",
        "    return model"
      ],
      "metadata": {
        "trusted": true,
        "id": "KMSGdZTXqvgz"
      },
      "execution_count": null,
      "outputs": []
    },
    {
      "cell_type": "code",
      "source": [
        "model = define_model(vocab_size, seq_length)"
      ],
      "metadata": {
        "trusted": true,
        "colab": {
          "base_uri": "https://localhost:8080/"
        },
        "outputId": "9771507c-fd79-4205-aba3-49b1701e50e2",
        "id": "Dn3FGLbkqvgz"
      },
      "execution_count": null,
      "outputs": [
        {
          "output_type": "stream",
          "name": "stdout",
          "text": [
            "Model: \"sequential_15\"\n",
            "_________________________________________________________________\n",
            " Layer (type)                Output Shape              Param #   \n",
            "=================================================================\n",
            " embedding_15 (Embedding)    (None, 50, 100)           734000    \n",
            "                                                                 \n",
            " simple_rnn_7 (SimpleRNN)    (None, 50, 100)           20100     \n",
            "                                                                 \n",
            " simple_rnn_8 (SimpleRNN)    (None, 50, 100)           20100     \n",
            "                                                                 \n",
            " simple_rnn_9 (SimpleRNN)    (None, 100)               20100     \n",
            "                                                                 \n",
            " dense_30 (Dense)            (None, 100)               10100     \n",
            "                                                                 \n",
            " dropout_15 (Dropout)        (None, 100)               0         \n",
            "                                                                 \n",
            " dense_31 (Dense)            (None, 7340)              741340    \n",
            "                                                                 \n",
            "=================================================================\n",
            "Total params: 1,545,740\n",
            "Trainable params: 1,545,740\n",
            "Non-trainable params: 0\n",
            "_________________________________________________________________\n"
          ]
        }
      ]
    },
    {
      "cell_type": "code",
      "source": [
        "his1=model.fit(X, y, batch_size=128, epochs=100)"
      ],
      "metadata": {
        "_kg_hide-output": true,
        "trusted": true,
        "colab": {
          "base_uri": "https://localhost:8080/"
        },
        "outputId": "42e38740-0c0e-45e8-fb31-85294859ec1f",
        "id": "uwg2M1n-qvg0"
      },
      "execution_count": null,
      "outputs": [
        {
          "output_type": "stream",
          "name": "stdout",
          "text": [
            "Epoch 1/100\n",
            "18/18 [==============================] - 4s 238ms/step - loss: 2.2757 - accuracy: 0.4487\n",
            "Epoch 2/100\n",
            "18/18 [==============================] - 4s 242ms/step - loss: 2.2953 - accuracy: 0.4474\n",
            "Epoch 3/100\n",
            "18/18 [==============================] - 4s 245ms/step - loss: 2.5840 - accuracy: 0.3818\n",
            "Epoch 4/100\n",
            "18/18 [==============================] - 4s 237ms/step - loss: 2.6040 - accuracy: 0.3736\n",
            "Epoch 5/100\n",
            "18/18 [==============================] - 4s 243ms/step - loss: 2.3997 - accuracy: 0.4144\n",
            "Epoch 6/100\n",
            "18/18 [==============================] - 4s 249ms/step - loss: 2.2561 - accuracy: 0.4470\n",
            "Epoch 7/100\n",
            "18/18 [==============================] - 4s 247ms/step - loss: 2.2116 - accuracy: 0.4652\n",
            "Epoch 8/100\n",
            "18/18 [==============================] - 4s 228ms/step - loss: 2.1834 - accuracy: 0.4692\n",
            "Epoch 9/100\n",
            "18/18 [==============================] - 4s 231ms/step - loss: 2.1019 - accuracy: 0.4939\n",
            "Epoch 10/100\n",
            "18/18 [==============================] - 4s 235ms/step - loss: 2.1057 - accuracy: 0.4904\n",
            "Epoch 11/100\n",
            "18/18 [==============================] - 4s 231ms/step - loss: 2.1385 - accuracy: 0.4865\n",
            "Epoch 12/100\n",
            "18/18 [==============================] - 4s 237ms/step - loss: 2.0868 - accuracy: 0.4957\n",
            "Epoch 13/100\n",
            "18/18 [==============================] - 4s 232ms/step - loss: 2.0617 - accuracy: 0.4961\n",
            "Epoch 14/100\n",
            "18/18 [==============================] - 4s 233ms/step - loss: 2.0191 - accuracy: 0.5030\n",
            "Epoch 15/100\n",
            "18/18 [==============================] - 4s 231ms/step - loss: 2.0154 - accuracy: 0.5096\n",
            "Epoch 16/100\n",
            "18/18 [==============================] - 4s 245ms/step - loss: 1.9915 - accuracy: 0.5126\n",
            "Epoch 17/100\n",
            "18/18 [==============================] - 5s 255ms/step - loss: 1.9781 - accuracy: 0.5135\n",
            "Epoch 18/100\n",
            "18/18 [==============================] - 4s 241ms/step - loss: 1.9567 - accuracy: 0.5195\n",
            "Epoch 19/100\n",
            "18/18 [==============================] - 4s 242ms/step - loss: 1.9440 - accuracy: 0.5200\n",
            "Epoch 20/100\n",
            "18/18 [==============================] - 4s 227ms/step - loss: 1.9425 - accuracy: 0.5182\n",
            "Epoch 21/100\n",
            "18/18 [==============================] - 4s 231ms/step - loss: 1.9276 - accuracy: 0.5152\n",
            "Epoch 22/100\n",
            "18/18 [==============================] - 4s 247ms/step - loss: 1.8660 - accuracy: 0.5308\n",
            "Epoch 23/100\n",
            "18/18 [==============================] - 4s 240ms/step - loss: 1.8554 - accuracy: 0.5326\n",
            "Epoch 24/100\n",
            "18/18 [==============================] - 4s 234ms/step - loss: 1.8474 - accuracy: 0.5352\n",
            "Epoch 25/100\n",
            "18/18 [==============================] - 4s 233ms/step - loss: 1.8096 - accuracy: 0.5447\n",
            "Epoch 26/100\n",
            "18/18 [==============================] - 4s 236ms/step - loss: 1.7682 - accuracy: 0.5534\n",
            "Epoch 27/100\n",
            "18/18 [==============================] - 4s 233ms/step - loss: 1.7656 - accuracy: 0.5556\n",
            "Epoch 28/100\n",
            "18/18 [==============================] - 4s 232ms/step - loss: 1.7489 - accuracy: 0.5565\n",
            "Epoch 29/100\n",
            "18/18 [==============================] - 4s 236ms/step - loss: 1.7359 - accuracy: 0.5604\n",
            "Epoch 30/100\n",
            "18/18 [==============================] - 4s 227ms/step - loss: 1.7427 - accuracy: 0.5534\n",
            "Epoch 31/100\n",
            "18/18 [==============================] - 7s 390ms/step - loss: 1.7220 - accuracy: 0.5599\n",
            "Epoch 32/100\n",
            "18/18 [==============================] - 4s 237ms/step - loss: 1.7112 - accuracy: 0.5621\n",
            "Epoch 33/100\n",
            "18/18 [==============================] - 5s 287ms/step - loss: 1.6888 - accuracy: 0.5647\n",
            "Epoch 34/100\n",
            "18/18 [==============================] - 4s 239ms/step - loss: 1.6579 - accuracy: 0.5673\n",
            "Epoch 35/100\n",
            "18/18 [==============================] - 5s 285ms/step - loss: 1.6347 - accuracy: 0.5747\n",
            "Epoch 36/100\n",
            "18/18 [==============================] - 5s 271ms/step - loss: 1.5953 - accuracy: 0.5778\n",
            "Epoch 37/100\n",
            "18/18 [==============================] - 4s 234ms/step - loss: 1.6058 - accuracy: 0.5882\n",
            "Epoch 38/100\n",
            "18/18 [==============================] - 4s 240ms/step - loss: 1.5861 - accuracy: 0.5817\n",
            "Epoch 39/100\n",
            "18/18 [==============================] - 4s 228ms/step - loss: 1.5442 - accuracy: 0.6030\n",
            "Epoch 40/100\n",
            "18/18 [==============================] - 5s 265ms/step - loss: 1.5885 - accuracy: 0.5869\n",
            "Epoch 41/100\n",
            "18/18 [==============================] - 4s 231ms/step - loss: 1.6523 - accuracy: 0.5691\n",
            "Epoch 42/100\n",
            "18/18 [==============================] - 4s 234ms/step - loss: 1.6789 - accuracy: 0.5673\n",
            "Epoch 43/100\n",
            "18/18 [==============================] - 4s 239ms/step - loss: 1.6698 - accuracy: 0.5665\n",
            "Epoch 44/100\n",
            "18/18 [==============================] - 4s 239ms/step - loss: 1.5728 - accuracy: 0.5760\n",
            "Epoch 45/100\n",
            "18/18 [==============================] - 4s 236ms/step - loss: 1.5226 - accuracy: 0.5956\n",
            "Epoch 46/100\n",
            "18/18 [==============================] - 4s 235ms/step - loss: 1.4461 - accuracy: 0.6095\n",
            "Epoch 47/100\n",
            "18/18 [==============================] - 4s 234ms/step - loss: 1.4317 - accuracy: 0.6099\n",
            "Epoch 48/100\n",
            "18/18 [==============================] - 4s 227ms/step - loss: 1.3781 - accuracy: 0.6277\n",
            "Epoch 49/100\n",
            "18/18 [==============================] - 4s 239ms/step - loss: 1.3818 - accuracy: 0.6325\n",
            "Epoch 50/100\n",
            "18/18 [==============================] - 4s 231ms/step - loss: 1.2899 - accuracy: 0.6486\n",
            "Epoch 51/100\n",
            "18/18 [==============================] - 4s 241ms/step - loss: 1.2649 - accuracy: 0.6612\n",
            "Epoch 52/100\n",
            "18/18 [==============================] - 4s 232ms/step - loss: 1.2062 - accuracy: 0.6690\n",
            "Epoch 53/100\n",
            "18/18 [==============================] - 4s 238ms/step - loss: 1.1971 - accuracy: 0.6720\n",
            "Epoch 54/100\n",
            "18/18 [==============================] - 4s 233ms/step - loss: 1.1386 - accuracy: 0.6894\n",
            "Epoch 55/100\n",
            "18/18 [==============================] - 4s 236ms/step - loss: 1.1503 - accuracy: 0.6959\n",
            "Epoch 56/100\n",
            "18/18 [==============================] - 4s 235ms/step - loss: 1.0932 - accuracy: 0.6964\n",
            "Epoch 57/100\n",
            "18/18 [==============================] - 4s 227ms/step - loss: 1.0858 - accuracy: 0.7037\n",
            "Epoch 58/100\n",
            "18/18 [==============================] - 4s 234ms/step - loss: 1.0620 - accuracy: 0.7059\n",
            "Epoch 59/100\n",
            "18/18 [==============================] - 4s 223ms/step - loss: 1.0581 - accuracy: 0.7050\n",
            "Epoch 60/100\n",
            "18/18 [==============================] - 4s 233ms/step - loss: 1.0248 - accuracy: 0.7246\n",
            "Epoch 61/100\n",
            "18/18 [==============================] - 4s 237ms/step - loss: 1.0016 - accuracy: 0.7281\n",
            "Epoch 62/100\n",
            "18/18 [==============================] - 4s 238ms/step - loss: 0.9942 - accuracy: 0.7220\n",
            "Epoch 63/100\n",
            "18/18 [==============================] - 4s 228ms/step - loss: 0.9653 - accuracy: 0.7324\n",
            "Epoch 64/100\n",
            "18/18 [==============================] - 4s 222ms/step - loss: 0.9405 - accuracy: 0.7446\n",
            "Epoch 65/100\n",
            "18/18 [==============================] - 4s 229ms/step - loss: 0.9286 - accuracy: 0.7463\n",
            "Epoch 66/100\n",
            "18/18 [==============================] - 4s 225ms/step - loss: 0.8795 - accuracy: 0.7489\n",
            "Epoch 67/100\n",
            "18/18 [==============================] - 4s 238ms/step - loss: 0.8523 - accuracy: 0.7632\n",
            "Epoch 68/100\n",
            "18/18 [==============================] - 4s 233ms/step - loss: 0.8559 - accuracy: 0.7711\n",
            "Epoch 69/100\n",
            "18/18 [==============================] - 4s 235ms/step - loss: 0.8939 - accuracy: 0.7550\n",
            "Epoch 70/100\n",
            "18/18 [==============================] - 4s 232ms/step - loss: 0.9000 - accuracy: 0.7498\n",
            "Epoch 71/100\n",
            "18/18 [==============================] - 4s 228ms/step - loss: 0.9040 - accuracy: 0.7328\n",
            "Epoch 72/100\n",
            "18/18 [==============================] - 4s 231ms/step - loss: 0.8355 - accuracy: 0.7693\n",
            "Epoch 73/100\n",
            "18/18 [==============================] - 4s 235ms/step - loss: 0.8171 - accuracy: 0.7676\n",
            "Epoch 74/100\n",
            "18/18 [==============================] - 4s 239ms/step - loss: 0.7813 - accuracy: 0.7841\n",
            "Epoch 75/100\n",
            "18/18 [==============================] - 4s 241ms/step - loss: 0.7620 - accuracy: 0.7876\n",
            "Epoch 76/100\n",
            "18/18 [==============================] - 4s 238ms/step - loss: 0.7503 - accuracy: 0.7954\n",
            "Epoch 77/100\n",
            "18/18 [==============================] - 4s 239ms/step - loss: 0.7286 - accuracy: 0.7954\n",
            "Epoch 78/100\n",
            "18/18 [==============================] - 4s 230ms/step - loss: 0.6833 - accuracy: 0.8045\n",
            "Epoch 79/100\n",
            "18/18 [==============================] - 4s 229ms/step - loss: 0.6600 - accuracy: 0.8189\n",
            "Epoch 80/100\n",
            "18/18 [==============================] - 4s 230ms/step - loss: 0.6257 - accuracy: 0.8384\n",
            "Epoch 81/100\n",
            "18/18 [==============================] - 4s 230ms/step - loss: 0.6130 - accuracy: 0.8432\n",
            "Epoch 82/100\n",
            "18/18 [==============================] - 4s 236ms/step - loss: 0.6337 - accuracy: 0.8215\n",
            "Epoch 83/100\n",
            "18/18 [==============================] - 4s 240ms/step - loss: 0.6133 - accuracy: 0.8440\n",
            "Epoch 84/100\n",
            "18/18 [==============================] - 4s 237ms/step - loss: 0.5944 - accuracy: 0.8375\n",
            "Epoch 85/100\n",
            "18/18 [==============================] - 4s 225ms/step - loss: 0.5581 - accuracy: 0.8484\n",
            "Epoch 86/100\n",
            "18/18 [==============================] - 4s 224ms/step - loss: 0.5833 - accuracy: 0.8432\n",
            "Epoch 87/100\n",
            "18/18 [==============================] - 4s 238ms/step - loss: 0.6011 - accuracy: 0.8358\n",
            "Epoch 88/100\n",
            "18/18 [==============================] - 4s 244ms/step - loss: 0.5581 - accuracy: 0.8484\n",
            "Epoch 89/100\n",
            "18/18 [==============================] - 4s 240ms/step - loss: 0.5443 - accuracy: 0.8519\n",
            "Epoch 90/100\n",
            "18/18 [==============================] - 4s 239ms/step - loss: 0.5012 - accuracy: 0.8727\n",
            "Epoch 91/100\n",
            "18/18 [==============================] - 4s 236ms/step - loss: 0.4993 - accuracy: 0.8697\n",
            "Epoch 92/100\n",
            "18/18 [==============================] - 4s 228ms/step - loss: 0.4659 - accuracy: 0.8827\n",
            "Epoch 93/100\n",
            "18/18 [==============================] - 5s 271ms/step - loss: 0.4538 - accuracy: 0.8818\n",
            "Epoch 94/100\n",
            "18/18 [==============================] - 4s 231ms/step - loss: 0.4203 - accuracy: 0.8931\n",
            "Epoch 95/100\n",
            "18/18 [==============================] - 4s 232ms/step - loss: 0.4000 - accuracy: 0.9079\n",
            "Epoch 96/100\n",
            "18/18 [==============================] - 4s 231ms/step - loss: 0.3877 - accuracy: 0.9188\n",
            "Epoch 97/100\n",
            "18/18 [==============================] - 5s 271ms/step - loss: 0.3772 - accuracy: 0.9131\n",
            "Epoch 98/100\n",
            "18/18 [==============================] - 4s 243ms/step - loss: 0.3756 - accuracy: 0.9109\n",
            "Epoch 99/100\n",
            "18/18 [==============================] - 4s 238ms/step - loss: 0.3547 - accuracy: 0.9218\n",
            "Epoch 100/100\n",
            "18/18 [==============================] - 4s 240ms/step - loss: 0.3413 - accuracy: 0.9231\n"
          ]
        }
      ]
    },
    {
      "cell_type": "code",
      "source": [
        "results_virt(his1)"
      ],
      "metadata": {
        "colab": {
          "base_uri": "https://localhost:8080/",
          "height": 493
        },
        "id": "Sl0-E0uHv5EE",
        "outputId": "8139259c-afb7-4fb5-a3e7-ee1df2861cba"
      },
      "execution_count": null,
      "outputs": [
        {
          "output_type": "display_data",
          "data": {
            "text/plain": [
              "<Figure size 1800x504 with 2 Axes>"
            ],
            "image/png": "[encoded data removed]"
          },
          "metadata": {
            "needs_background": "light"
          }
        }
      ]
    },
    {
      "cell_type": "markdown",
      "source": [
        "<h3><center>Generating Text"
      ],
      "metadata": {
        "id": "VeiRdIKfqvg1"
      }
    },
    {
      "cell_type": "code",
      "source": [
        "def generate_seq(model, tokenizer, seq_length, seed_text, n_words):\n",
        "    result = list()\n",
        "    in_text = seed_text\n",
        "    for _ in range(n_words):\n",
        "        encoded = tokenizer.texts_to_sequences([in_text])[0]\n",
        "        encoded = pad_sequences([encoded], maxlen=seq_length, truncating='pre')\n",
        "        # yhat = model.predict_classes(encoded, verbose=0)\n",
        "        yhat=model.predict(encoded) \n",
        "        yhat=np.argmax(yhat,axis=1)\n",
        "        out_word = ''\n",
        "        for word, index in tokenizer.word_index.items():\n",
        "            if index == yhat:\n",
        "                out_word = word\n",
        "                break\n",
        "        in_text += ' ' + out_word\n",
        "        result.append(out_word)\n",
        "    return ' '.join(result)"
      ],
      "metadata": {
        "trusted": true,
        "id": "cVfx7_L3qvg1"
      },
      "execution_count": null,
      "outputs": []
    },
    {
      "cell_type": "code",
      "source": [
        "seed_text = sequences[randint(0,len(sequences))]\n",
        "print(seed_text + '\\n')\n",
        "# generate new text\n",
        "generated = generate_seq(model, tokenizer, seq_length, seed_text, 50) \n",
        "print(generated)"
      ],
      "metadata": {
        "trusted": true,
        "colab": {
          "base_uri": "https://localhost:8080/"
        },
        "outputId": "4f140b5b-adaf-4df2-ce0f-daaef929148e",
        "id": "r21TRa5Sqvg1"
      },
      "execution_count": null,
      "outputs": [
        {
          "output_type": "stream",
          "name": "stdout",
          "text": [
            "if they could help while they run about at the dionysiac festivals as if they had let out their ears to hear every chorus whether the performance is in town or makes no are there now are we to maintain that all these and any who have similar tastes as well\n",
            "\n",
            "as as said be out who they if be man as would a his very in the also must have on on only as he he be good said for your as said said he he said are if said be will he would as a them me not said\n"
          ]
        }
      ]
    },
    {
      "cell_type": "markdown",
      "source": [
        "# SimpleRNN model #2"
      ],
      "metadata": {
        "id": "FCwjA9k3vOdY"
      }
    },
    {
      "cell_type": "code",
      "source": [
        "def define_model(vocab_size, inputlength):\n",
        "    model = Sequential()\n",
        "    \n",
        "    model.add(Embedding(vocab_size, 100, input_length=seq_length))\n",
        "    model.add(SimpleRNN(128,dropout=0.3))\n",
        "    # model.add(SimpleRNN(100, return_sequences=True,dropout=0.1))\n",
        "    # model.add(SimpleRNN(100))\n",
        "    model.add(Dense(100))\n",
        "    model.add(Dropout(0.2))\n",
        "    model.add(Dense(vocab_size, activation='softmax'))\n",
        "    \n",
        "    model.compile(loss='categorical_crossentropy', optimizer='adam', metrics=['accuracy'])\n",
        "    model.summary()\n",
        "    plot_model(model, to_file='model.png', show_shapes=True)\n",
        "    return model"
      ],
      "metadata": {
        "trusted": true,
        "id": "2nBtRdHXvOdj"
      },
      "execution_count": null,
      "outputs": []
    },
    {
      "cell_type": "code",
      "source": [
        "model = define_model(vocab_size, seq_length)"
      ],
      "metadata": {
        "trusted": true,
        "colab": {
          "base_uri": "https://localhost:8080/"
        },
        "outputId": "c4c6c17e-6b15-4b1c-86ac-e5dc97b58caf",
        "id": "GS8gC1zsvOdj"
      },
      "execution_count": null,
      "outputs": [
        {
          "output_type": "stream",
          "name": "stdout",
          "text": [
            "Model: \"sequential_14\"\n",
            "_________________________________________________________________\n",
            " Layer (type)                Output Shape              Param #   \n",
            "=================================================================\n",
            " embedding_14 (Embedding)    (None, 50, 100)           734000    \n",
            "                                                                 \n",
            " simple_rnn_6 (SimpleRNN)    (None, 128)               29312     \n",
            "                                                                 \n",
            " dense_28 (Dense)            (None, 100)               12900     \n",
            "                                                                 \n",
            " dropout_14 (Dropout)        (None, 100)               0         \n",
            "                                                                 \n",
            " dense_29 (Dense)            (None, 7340)              741340    \n",
            "                                                                 \n",
            "=================================================================\n",
            "Total params: 1,517,552\n",
            "Trainable params: 1,517,552\n",
            "Non-trainable params: 0\n",
            "_________________________________________________________________\n"
          ]
        }
      ]
    },
    {
      "cell_type": "code",
      "source": [
        "his1=model.fit(X, y, batch_size=128, epochs=100)"
      ],
      "metadata": {
        "_kg_hide-output": true,
        "trusted": true,
        "colab": {
          "base_uri": "https://localhost:8080/"
        },
        "outputId": "3d5d6560-858f-44e6-b288-5c867de6caa1",
        "id": "5imx8COJvOdk"
      },
      "execution_count": null,
      "outputs": [
        {
          "output_type": "stream",
          "name": "stdout",
          "text": [
            "Epoch 1/100\n",
            "18/18 [==============================] - 3s 88ms/step - loss: 8.1000 - accuracy: 0.0348\n",
            "Epoch 2/100\n",
            "18/18 [==============================] - 2s 90ms/step - loss: 6.0001 - accuracy: 0.0556\n",
            "Epoch 3/100\n",
            "18/18 [==============================] - 2s 86ms/step - loss: 5.7351 - accuracy: 0.0526\n",
            "Epoch 4/100\n",
            "18/18 [==============================] - 2s 87ms/step - loss: 5.6646 - accuracy: 0.0586\n",
            "Epoch 5/100\n",
            "18/18 [==============================] - 2s 86ms/step - loss: 5.6416 - accuracy: 0.0521\n",
            "Epoch 6/100\n",
            "18/18 [==============================] - 2s 89ms/step - loss: 5.6366 - accuracy: 0.0556\n",
            "Epoch 7/100\n",
            "18/18 [==============================] - 2s 88ms/step - loss: 5.6324 - accuracy: 0.0534\n",
            "Epoch 8/100\n",
            "18/18 [==============================] - 2s 90ms/step - loss: 5.6087 - accuracy: 0.0591\n",
            "Epoch 9/100\n",
            "18/18 [==============================] - 2s 88ms/step - loss: 5.9081 - accuracy: 0.0517\n",
            "Epoch 10/100\n",
            "18/18 [==============================] - 2s 93ms/step - loss: 6.3492 - accuracy: 0.0500\n",
            "Epoch 11/100\n",
            "18/18 [==============================] - 2s 119ms/step - loss: 6.2596 - accuracy: 0.0513\n",
            "Epoch 12/100\n",
            "18/18 [==============================] - 2s 85ms/step - loss: 5.8677 - accuracy: 0.0547\n",
            "Epoch 13/100\n",
            "18/18 [==============================] - 2s 88ms/step - loss: 5.4153 - accuracy: 0.0634\n",
            "Epoch 14/100\n",
            "18/18 [==============================] - 2s 91ms/step - loss: 5.2534 - accuracy: 0.0682\n",
            "Epoch 15/100\n",
            "18/18 [==============================] - 2s 93ms/step - loss: 5.0930 - accuracy: 0.0717\n",
            "Epoch 16/100\n",
            "18/18 [==============================] - 2s 85ms/step - loss: 4.9371 - accuracy: 0.0930\n",
            "Epoch 17/100\n",
            "18/18 [==============================] - 2s 91ms/step - loss: 4.7631 - accuracy: 0.0986\n",
            "Epoch 18/100\n",
            "18/18 [==============================] - 2s 92ms/step - loss: 4.6069 - accuracy: 0.1156\n",
            "Epoch 19/100\n",
            "18/18 [==============================] - 2s 89ms/step - loss: 4.4268 - accuracy: 0.1399\n",
            "Epoch 20/100\n",
            "18/18 [==============================] - 2s 92ms/step - loss: 4.2577 - accuracy: 0.1442\n",
            "Epoch 21/100\n",
            "18/18 [==============================] - 2s 88ms/step - loss: 4.0792 - accuracy: 0.1759\n",
            "Epoch 22/100\n",
            "18/18 [==============================] - 2s 89ms/step - loss: 3.9113 - accuracy: 0.2029\n",
            "Epoch 23/100\n",
            "18/18 [==============================] - 2s 87ms/step - loss: 3.7534 - accuracy: 0.2176\n",
            "Epoch 24/100\n",
            "18/18 [==============================] - 2s 89ms/step - loss: 3.5890 - accuracy: 0.2420\n",
            "Epoch 25/100\n",
            "18/18 [==============================] - 2s 92ms/step - loss: 3.4203 - accuracy: 0.2619\n",
            "Epoch 26/100\n",
            "18/18 [==============================] - 2s 86ms/step - loss: 3.2424 - accuracy: 0.2889\n",
            "Epoch 27/100\n",
            "18/18 [==============================] - 2s 91ms/step - loss: 3.0597 - accuracy: 0.3175\n",
            "Epoch 28/100\n",
            "18/18 [==============================] - 2s 93ms/step - loss: 2.8920 - accuracy: 0.3475\n",
            "Epoch 29/100\n",
            "18/18 [==============================] - 2s 87ms/step - loss: 2.6908 - accuracy: 0.3753\n",
            "Epoch 30/100\n",
            "18/18 [==============================] - 2s 86ms/step - loss: 2.5007 - accuracy: 0.4231\n",
            "Epoch 31/100\n",
            "18/18 [==============================] - 2s 93ms/step - loss: 2.3177 - accuracy: 0.4440\n",
            "Epoch 32/100\n",
            "18/18 [==============================] - 2s 87ms/step - loss: 2.1614 - accuracy: 0.4878\n",
            "Epoch 33/100\n",
            "18/18 [==============================] - 2s 94ms/step - loss: 1.9887 - accuracy: 0.5200\n",
            "Epoch 34/100\n",
            "18/18 [==============================] - 2s 90ms/step - loss: 1.8349 - accuracy: 0.5569\n",
            "Epoch 35/100\n",
            "18/18 [==============================] - 2s 88ms/step - loss: 1.6640 - accuracy: 0.6043\n",
            "Epoch 36/100\n",
            "18/18 [==============================] - 2s 92ms/step - loss: 1.5092 - accuracy: 0.6451\n",
            "Epoch 37/100\n",
            "18/18 [==============================] - 2s 88ms/step - loss: 1.3973 - accuracy: 0.6768\n",
            "Epoch 38/100\n",
            "18/18 [==============================] - 2s 89ms/step - loss: 1.2621 - accuracy: 0.7085\n",
            "Epoch 39/100\n",
            "18/18 [==============================] - 2s 94ms/step - loss: 1.1373 - accuracy: 0.7333\n",
            "Epoch 40/100\n",
            "18/18 [==============================] - 2s 96ms/step - loss: 1.0178 - accuracy: 0.7650\n",
            "Epoch 41/100\n",
            "18/18 [==============================] - 2s 94ms/step - loss: 0.9355 - accuracy: 0.7928\n",
            "Epoch 42/100\n",
            "18/18 [==============================] - 2s 86ms/step - loss: 0.8500 - accuracy: 0.8136\n",
            "Epoch 43/100\n",
            "18/18 [==============================] - 2s 90ms/step - loss: 0.7500 - accuracy: 0.8401\n",
            "Epoch 44/100\n",
            "18/18 [==============================] - 2s 85ms/step - loss: 0.6450 - accuracy: 0.8710\n",
            "Epoch 45/100\n",
            "18/18 [==============================] - 2s 87ms/step - loss: 0.6185 - accuracy: 0.8749\n",
            "Epoch 46/100\n",
            "18/18 [==============================] - 2s 88ms/step - loss: 0.5727 - accuracy: 0.8814\n",
            "Epoch 47/100\n",
            "18/18 [==============================] - 2s 94ms/step - loss: 0.4990 - accuracy: 0.9053\n",
            "Epoch 48/100\n",
            "18/18 [==============================] - 2s 88ms/step - loss: 0.4727 - accuracy: 0.9057\n",
            "Epoch 49/100\n",
            "18/18 [==============================] - 2s 88ms/step - loss: 0.4151 - accuracy: 0.9209\n",
            "Epoch 50/100\n",
            "18/18 [==============================] - 2s 87ms/step - loss: 0.3723 - accuracy: 0.9374\n",
            "Epoch 51/100\n",
            "18/18 [==============================] - 2s 88ms/step - loss: 0.3519 - accuracy: 0.9409\n",
            "Epoch 52/100\n",
            "18/18 [==============================] - 2s 89ms/step - loss: 0.3411 - accuracy: 0.9348\n",
            "Epoch 53/100\n",
            "18/18 [==============================] - 2s 86ms/step - loss: 0.3025 - accuracy: 0.9496\n",
            "Epoch 54/100\n",
            "18/18 [==============================] - 2s 89ms/step - loss: 0.2850 - accuracy: 0.9487\n",
            "Epoch 55/100\n",
            "18/18 [==============================] - 2s 90ms/step - loss: 0.2684 - accuracy: 0.9540\n",
            "Epoch 56/100\n",
            "18/18 [==============================] - 2s 88ms/step - loss: 0.2376 - accuracy: 0.9609\n",
            "Epoch 57/100\n",
            "18/18 [==============================] - 2s 83ms/step - loss: 0.2250 - accuracy: 0.9644\n",
            "Epoch 58/100\n",
            "18/18 [==============================] - 2s 86ms/step - loss: 0.1891 - accuracy: 0.9722\n",
            "Epoch 59/100\n",
            "18/18 [==============================] - 2s 93ms/step - loss: 0.1724 - accuracy: 0.9748\n",
            "Epoch 60/100\n",
            "18/18 [==============================] - 2s 85ms/step - loss: 0.1639 - accuracy: 0.9839\n",
            "Epoch 61/100\n",
            "18/18 [==============================] - 2s 88ms/step - loss: 0.1599 - accuracy: 0.9774\n",
            "Epoch 62/100\n",
            "18/18 [==============================] - 2s 86ms/step - loss: 0.1561 - accuracy: 0.9778\n",
            "Epoch 63/100\n",
            "18/18 [==============================] - 2s 89ms/step - loss: 0.1364 - accuracy: 0.9796\n",
            "Epoch 64/100\n",
            "18/18 [==============================] - 2s 90ms/step - loss: 0.1395 - accuracy: 0.9778\n",
            "Epoch 65/100\n",
            "18/18 [==============================] - 2s 90ms/step - loss: 0.1344 - accuracy: 0.9805\n",
            "Epoch 66/100\n",
            "18/18 [==============================] - 2s 90ms/step - loss: 0.1226 - accuracy: 0.9818\n",
            "Epoch 67/100\n",
            "18/18 [==============================] - 2s 88ms/step - loss: 0.1071 - accuracy: 0.9870\n",
            "Epoch 68/100\n",
            "18/18 [==============================] - 2s 88ms/step - loss: 0.1076 - accuracy: 0.9839\n",
            "Epoch 69/100\n",
            "18/18 [==============================] - 2s 86ms/step - loss: 0.1043 - accuracy: 0.9891\n",
            "Epoch 70/100\n",
            "18/18 [==============================] - 2s 94ms/step - loss: 0.1014 - accuracy: 0.9857\n",
            "Epoch 71/100\n",
            "18/18 [==============================] - 2s 91ms/step - loss: 0.0908 - accuracy: 0.9913\n",
            "Epoch 72/100\n",
            "18/18 [==============================] - 2s 94ms/step - loss: 0.0926 - accuracy: 0.9874\n",
            "Epoch 73/100\n",
            "18/18 [==============================] - 2s 87ms/step - loss: 0.0960 - accuracy: 0.9852\n",
            "Epoch 74/100\n",
            "18/18 [==============================] - 2s 90ms/step - loss: 0.0814 - accuracy: 0.9935\n",
            "Epoch 75/100\n",
            "18/18 [==============================] - 2s 89ms/step - loss: 0.0787 - accuracy: 0.9904\n",
            "Epoch 76/100\n",
            "18/18 [==============================] - 2s 92ms/step - loss: 0.0783 - accuracy: 0.9896\n",
            "Epoch 77/100\n",
            "18/18 [==============================] - 2s 85ms/step - loss: 0.0741 - accuracy: 0.9896\n",
            "Epoch 78/100\n",
            "18/18 [==============================] - 2s 91ms/step - loss: 0.0712 - accuracy: 0.9948\n",
            "Epoch 79/100\n",
            "18/18 [==============================] - 2s 93ms/step - loss: 0.0693 - accuracy: 0.9922\n",
            "Epoch 80/100\n",
            "18/18 [==============================] - 2s 92ms/step - loss: 0.0632 - accuracy: 0.9926\n",
            "Epoch 81/100\n",
            "18/18 [==============================] - 2s 94ms/step - loss: 0.0641 - accuracy: 0.9909\n",
            "Epoch 82/100\n",
            "18/18 [==============================] - 2s 89ms/step - loss: 0.0621 - accuracy: 0.9917\n",
            "Epoch 83/100\n",
            "18/18 [==============================] - 2s 98ms/step - loss: 0.0656 - accuracy: 0.9917\n",
            "Epoch 84/100\n",
            "18/18 [==============================] - 2s 90ms/step - loss: 0.0559 - accuracy: 0.9935\n",
            "Epoch 85/100\n",
            "18/18 [==============================] - 2s 91ms/step - loss: 0.0575 - accuracy: 0.9926\n",
            "Epoch 86/100\n",
            "18/18 [==============================] - 2s 94ms/step - loss: 0.0549 - accuracy: 0.9939\n",
            "Epoch 87/100\n",
            "18/18 [==============================] - 2s 93ms/step - loss: 0.0502 - accuracy: 0.9952\n",
            "Epoch 88/100\n",
            "18/18 [==============================] - 2s 94ms/step - loss: 0.0494 - accuracy: 0.9948\n",
            "Epoch 89/100\n",
            "18/18 [==============================] - 2s 93ms/step - loss: 0.0484 - accuracy: 0.9952\n",
            "Epoch 90/100\n",
            "18/18 [==============================] - 2s 90ms/step - loss: 0.0503 - accuracy: 0.9944\n",
            "Epoch 91/100\n",
            "18/18 [==============================] - 2s 91ms/step - loss: 0.0442 - accuracy: 0.9957\n",
            "Epoch 92/100\n",
            "18/18 [==============================] - 2s 89ms/step - loss: 0.0528 - accuracy: 0.9922\n",
            "Epoch 93/100\n",
            "18/18 [==============================] - 2s 91ms/step - loss: 0.0533 - accuracy: 0.9913\n",
            "Epoch 94/100\n",
            "18/18 [==============================] - 2s 93ms/step - loss: 0.0564 - accuracy: 0.9904\n",
            "Epoch 95/100\n",
            "18/18 [==============================] - 2s 89ms/step - loss: 0.0490 - accuracy: 0.9944\n",
            "Epoch 96/100\n",
            "18/18 [==============================] - 2s 88ms/step - loss: 0.0455 - accuracy: 0.9917\n",
            "Epoch 97/100\n",
            "18/18 [==============================] - 2s 87ms/step - loss: 0.0416 - accuracy: 0.9952\n",
            "Epoch 98/100\n",
            "18/18 [==============================] - 2s 88ms/step - loss: 0.0373 - accuracy: 0.9944\n",
            "Epoch 99/100\n",
            "18/18 [==============================] - 2s 90ms/step - loss: 0.0393 - accuracy: 0.9952\n",
            "Epoch 100/100\n",
            "18/18 [==============================] - 2s 87ms/step - loss: 0.0384 - accuracy: 0.9939\n"
          ]
        }
      ]
    },
    {
      "cell_type": "code",
      "source": [
        "results_virt(his1)"
      ],
      "metadata": {
        "colab": {
          "base_uri": "https://localhost:8080/",
          "height": 493
        },
        "id": "fb7sV6Ssw94c",
        "outputId": "24604dca-a576-46af-f4da-e02be1544381"
      },
      "execution_count": null,
      "outputs": [
        {
          "output_type": "display_data",
          "data": {
            "text/plain": [
              "<Figure size 1800x504 with 2 Axes>"
            ],
            "image/png": "[encoded data removed]"
          },
          "metadata": {
            "needs_background": "light"
          }
        }
      ]
    },
    {
      "cell_type": "markdown",
      "source": [
        "<h3><center>Generating Text"
      ],
      "metadata": {
        "id": "WbE65mRXvOdk"
      }
    },
    {
      "cell_type": "code",
      "source": [
        "def generate_seq(model, tokenizer, seq_length, seed_text, n_words):\n",
        "    result = list()\n",
        "    in_text = seed_text\n",
        "    for _ in range(n_words):\n",
        "        encoded = tokenizer.texts_to_sequences([in_text])[0]\n",
        "        encoded = pad_sequences([encoded], maxlen=seq_length, truncating='pre')\n",
        "        # yhat = model.predict_classes(encoded, verbose=0)\n",
        "        yhat=model.predict(encoded) \n",
        "        yhat=np.argmax(yhat,axis=1)\n",
        "        out_word = ''\n",
        "        for word, index in tokenizer.word_index.items():\n",
        "            if index == yhat:\n",
        "                out_word = word\n",
        "                break\n",
        "        in_text += ' ' + out_word\n",
        "        result.append(out_word)\n",
        "    return ' '.join(result)"
      ],
      "metadata": {
        "trusted": true,
        "id": "9nnI82VIvOdk"
      },
      "execution_count": null,
      "outputs": []
    },
    {
      "cell_type": "code",
      "source": [
        "seed_text = sequences[randint(0,len(sequences))]\n",
        "print(seed_text + '\\n')\n",
        "# generate new text\n",
        "generated = generate_seq(model, tokenizer, seq_length, seed_text, 50) \n",
        "print(generated)"
      ],
      "metadata": {
        "trusted": true,
        "colab": {
          "base_uri": "https://localhost:8080/"
        },
        "outputId": "f4dc5330-252c-435d-b50a-9ccb553f8bc2",
        "id": "7mpwjsLEvOdk"
      },
      "execution_count": null,
      "outputs": [
        {
          "output_type": "stream",
          "name": "stdout",
          "text": [
            "then to the mind when adequately trained we shall be right in handing over the more particular care of the body and in order to avoid prolixity we will now only give the general outlines of the subject very good that they must abstain from intoxication has been already remarked by\n",
            "\n",
            "speech of his stronger out only general would be had more which but education a good thinks mistaken ideal would hand been happiness the oligarch unlike being any up ground assuredly disease ask attainment to think if he also that we be out which is their state no more you\n"
          ]
        }
      ]
    },
    {
      "cell_type": "code",
      "source": [
        ""
      ],
      "metadata": {
        "id": "z_V3OpZ2xY0K"
      },
      "execution_count": null,
      "outputs": []
    }
  ]
}